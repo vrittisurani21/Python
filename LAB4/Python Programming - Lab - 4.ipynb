{
 "cells": [
  {
   "cell_type": "markdown",
   "metadata": {},
   "source": [
    "\n",
    "<a href='https://www.darshan.ac.in/'> <img src='https://www.darshan.ac.in/Content/media/DU_Logo.svg' width=\"250\" height=\"300\"/></a>\n",
    "<pre>\n",
    "<center><b><h1>Python Programming - 2301CS404</b></center>\n",
    "<center><b><h1>Lab - 4</b></center>    \n",
    "<pre>"
   ]
  },
  {
   "cell_type": "markdown",
   "metadata": {},
   "source": [
    "# String"
   ]
  },
  {
   "cell_type": "markdown",
   "metadata": {},
   "source": [
    "### 01) WAP to check whether the given string is palindrome or not."
   ]
  },
  {
   "cell_type": "code",
   "execution_count": 1,
   "metadata": {},
   "outputs": [
    {
     "name": "stdout",
     "output_type": "stream",
     "text": [
      "True\n"
     ]
    }
   ],
   "source": [
    "s1 = \"madam\" \n",
    "#s = s.lower() \n",
    "is_palindrome = s1 == s1[::-1]  \n",
    "print(is_palindrome)"
   ]
  },
  {
   "cell_type": "markdown",
   "metadata": {},
   "source": [
    "### 02) WAP to reverse the words in the given string."
   ]
  },
  {
   "cell_type": "code",
   "execution_count": 3,
   "metadata": {},
   "outputs": [
    {
     "data": {
      "text/plain": [
       "'inaruS ittirV'"
      ]
     },
     "execution_count": 3,
     "metadata": {},
     "output_type": "execute_result"
    }
   ],
   "source": [
    "s1='Vritti Surani'\n",
    "s1[-1:-len(s1)-1:-1]"
   ]
  },
  {
   "cell_type": "markdown",
   "metadata": {},
   "source": [
    "### 03) WAP to remove ith character from given string."
   ]
  },
  {
   "cell_type": "code",
   "execution_count": 4,
   "metadata": {},
   "outputs": [
    {
     "name": "stdout",
     "output_type": "stream",
     "text": [
      "Vritt Surani\n"
     ]
    }
   ],
   "source": [
    "s1 = \"Vritti Surani\"  \n",
    "i = 5  \n",
    "new_string = s1[:i] + s1[i+1:]\n",
    "print(new_string)"
   ]
  },
  {
   "cell_type": "markdown",
   "metadata": {},
   "source": [
    "### 04) WAP to find length of string without using len function."
   ]
  },
  {
   "cell_type": "code",
   "execution_count": 5,
   "metadata": {},
   "outputs": [
    {
     "name": "stdout",
     "output_type": "stream",
     "text": [
      "13\n"
     ]
    }
   ],
   "source": [
    "s1 = \"Vritti Surani\"  \n",
    "length = 0\n",
    "for char in s1:\n",
    "    length += 1  \n",
    "print(length)"
   ]
  },
  {
   "cell_type": "markdown",
   "metadata": {},
   "source": [
    "### 05) WAP to print even length word in string."
   ]
  },
  {
   "cell_type": "code",
   "execution_count": 6,
   "metadata": {},
   "outputs": [
    {
     "name": "stdout",
     "output_type": "stream",
     "text": [
      "My\n",
      "name\n",
      "is\n",
      "Vritti\n",
      "Surani\n"
     ]
    }
   ],
   "source": [
    "s1 = \"My name is Vritti Surani \"  \n",
    "words = s1.split()\n",
    "for word in words:\n",
    "    if len(word) % 2 == 0:\n",
    "        print(word)"
   ]
  },
  {
   "cell_type": "markdown",
   "metadata": {},
   "source": [
    "### 06) WAP to count numbers of vowels in given string."
   ]
  },
  {
   "cell_type": "code",
   "execution_count": 7,
   "metadata": {},
   "outputs": [
    {
     "name": "stdout",
     "output_type": "stream",
     "text": [
      "8\n"
     ]
    }
   ],
   "source": [
    "s1 = \"My name is Vritti Surani\"  \n",
    "vowels = \"aeiouAEIOU\"  \n",
    "count = 0 \n",
    "for char in s1:\n",
    "    if char in vowels:\n",
    "        count += 1 \n",
    "print(count)"
   ]
  },
  {
   "cell_type": "markdown",
   "metadata": {},
   "source": [
    "### 07) WAP to capitalize the first and last character of each word in a string."
   ]
  },
  {
   "cell_type": "code",
   "execution_count": 8,
   "metadata": {},
   "outputs": [
    {
     "name": "stdout",
     "output_type": "stream",
     "text": [
      "HellO WorlD FroM VrittI SuranI\n"
     ]
    }
   ],
   "source": [
    "s1 = \"hello world from vritti surani\"  \n",
    "words = s1.split()\n",
    "capitalized_words = [\n",
    "    word[0].upper() + word[1:-1] + word[-1].upper() if len(word) > 1 else word.upper()\n",
    "    for word in words\n",
    "]\n",
    "result = ' '.join(capitalized_words)\n",
    "print(result)"
   ]
  },
  {
   "cell_type": "markdown",
   "metadata": {},
   "source": [
    "### 08) WAP to convert given array to string."
   ]
  },
  {
   "cell_type": "code",
   "execution_count": 9,
   "metadata": {},
   "outputs": [
    {
     "name": "stdout",
     "output_type": "stream",
     "text": [
      "Hello world from Vritti Surani\n"
     ]
    }
   ],
   "source": [
    "array = ['Hello', 'world', 'from', 'Vritti', 'Surani']  \n",
    "string = ' '.join(array)\n",
    "print(string)"
   ]
  },
  {
   "cell_type": "markdown",
   "metadata": {},
   "source": [
    "### 09) Check if the password and confirm password is same or not. \n",
    "### In case of only case's mistake, show the error message."
   ]
  },
  {
   "cell_type": "code",
   "execution_count": 10,
   "metadata": {},
   "outputs": [
    {
     "name": "stdout",
     "output_type": "stream",
     "text": [
      "Error: Passwords match except for case difference.\n"
     ]
    }
   ],
   "source": [
    "password = \"Password123\"  \n",
    "confirm_password = \"password123\"  \n",
    "\n",
    "if password == confirm_password:\n",
    "    print(\"Passwords match.\")\n",
    "elif password.lower() == confirm_password.lower():\n",
    "    print(\"Error: Passwords match except for case difference.\")\n",
    "else:\n",
    "    print(\"Error: Passwords do not match.\")"
   ]
  },
  {
   "cell_type": "markdown",
   "metadata": {},
   "source": [
    "### 10) : Display credit card number. \n",
    "### card no. : 1234 5678 9012 3456\n",
    "### display as  : **** **** **** 3456"
   ]
  },
  {
   "cell_type": "code",
   "execution_count": 11,
   "metadata": {},
   "outputs": [
    {
     "name": "stdout",
     "output_type": "stream",
     "text": [
      "**** **** **** 3456\n"
     ]
    }
   ],
   "source": [
    "card_number = \"1234 5678 9012 3456\" \n",
    "masked_card_number = \"**** **** **** \" + card_number[-4:]\n",
    "print(masked_card_number)"
   ]
  },
  {
   "cell_type": "markdown",
   "metadata": {},
   "source": [
    "### 11) : Checking if the two strings are Anagram or not.\n",
    "### s1 = decimal and s2 = medical are Anagram"
   ]
  },
  {
   "cell_type": "code",
   "execution_count": 12,
   "metadata": {},
   "outputs": [
    {
     "name": "stdout",
     "output_type": "stream",
     "text": [
      "\"decimal\" and \"medical\" are anagrams: True\n"
     ]
    }
   ],
   "source": [
    "s1 = \"decimal\"  \n",
    "s2 = \"medical\"  \n",
    "are_anagrams = sorted(s1) == sorted(s2)\n",
    "print(f'\"{s1}\" and \"{s2}\" are anagrams: {are_anagrams}')"
   ]
  },
  {
   "cell_type": "markdown",
   "metadata": {},
   "source": [
    "### 12) : Rearrange the given string. First lowercase then uppercase alphabets.\n",
    "### input : EHlsarwiwhtwMV\n",
    "### output : lsarwiwhtwEHMV"
   ]
  },
  {
   "cell_type": "code",
   "execution_count": 13,
   "metadata": {},
   "outputs": [
    {
     "name": "stdout",
     "output_type": "stream",
     "text": [
      "lsarwiwhtwEHMV\n"
     ]
    }
   ],
   "source": [
    "input_str = \"EHlsarwiwhtwMV\"  \n",
    "lower_case = ''.join([char for char in input_str if char.islower()])\n",
    "upper_case = ''.join([char for char in input_str if char.isupper()])\n",
    "output_str = lower_case + upper_case\n",
    "print(output_str)"
   ]
  }
 ],
 "metadata": {
  "kernelspec": {
   "display_name": "Python 3 (ipykernel)",
   "language": "python",
   "name": "python3"
  },
  "language_info": {
   "codemirror_mode": {
    "name": "ipython",
    "version": 3
   },
   "file_extension": ".py",
   "mimetype": "text/x-python",
   "name": "python",
   "nbconvert_exporter": "python",
   "pygments_lexer": "ipython3",
   "version": "3.12.7"
  },
  "vscode": {
   "interpreter": {
    "hash": "31f2aee4e71d21fbe5cf8b01ff0e069b9275f58929596ceb00d14d90e3e16cd6"
   }
  }
 },
 "nbformat": 4,
 "nbformat_minor": 4
}
