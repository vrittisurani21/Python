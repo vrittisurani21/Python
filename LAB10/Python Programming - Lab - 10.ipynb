{
 "cells": [
  {
   "cell_type": "markdown",
   "metadata": {},
   "source": [
    "<a href='https://www.darshan.ac.in/'> <img src='https://www.darshan.ac.in/Content/media/DU_Logo.svg' width=\"250\" height=\"300\"/></a>\n",
    "<pre>\n",
    "<center><b><h1>Python Programming - 2301CS404</b></center>\n",
    "<center><b><h1>Lab - 10</b></center>    \n",
    "<pre>"
   ]
  },
  {
   "cell_type": "markdown",
   "metadata": {},
   "source": [
    "# Exception Handling"
   ]
  },
  {
   "cell_type": "markdown",
   "metadata": {},
   "source": [
    "### 01) WAP to handle following exceptions:\n",
    "1. ZeroDivisionError\n",
    "2. ValueError\n",
    "3. TypeError\n",
    "#### Note: handle them using separate except blocks and also using single except block too."
   ]
  },
  {
   "cell_type": "code",
   "execution_count": 7,
   "metadata": {},
   "outputs": [
    {
     "name": "stdin",
     "output_type": "stream",
     "text": [
      "Enter num 1: 5\n",
      "Enter num 2: 0\n"
     ]
    },
    {
     "name": "stdout",
     "output_type": "stream",
     "text": [
      "Division by zero is not allowed\n"
     ]
    }
   ],
   "source": [
    "try:\n",
    "    num1=int(input(\"Enter num 1:\"))\n",
    "    num2=int(input(\"Enter num 2:\"))\n",
    "    result=num1/num2\n",
    "    print(result)\n",
    "except ZeroDivisionError:\n",
    "    print(\"Division by zero is not allowed\")\n",
    "except ValueError:\n",
    "    print(\"Invalid Input\")\n",
    "except TypeError:\n",
    "    print(\"Unsupported operand type for division\")"
   ]
  },
  {
   "cell_type": "code",
   "execution_count": 3,
   "metadata": {},
   "outputs": [
    {
     "name": "stdin",
     "output_type": "stream",
     "text": [
      "Enter num 1 6\n",
      "Enter num 2 g\n"
     ]
    },
    {
     "name": "stdout",
     "output_type": "stream",
     "text": [
      "invalid literal for int() with base 10: 'g'\n"
     ]
    }
   ],
   "source": [
    "try:\n",
    "    num1=int(input(\"Enter num 1\"))\n",
    "    num2=int(input(\"Enter num 2\"))\n",
    "    result=num1/num2\n",
    "    print(result)\n",
    "except(ZeroDivisionError,ValueError,TypeError) as e:\n",
    "    print(e)"
   ]
  },
  {
   "cell_type": "markdown",
   "metadata": {},
   "source": [
    "### 02)  WAP to handle following exceptions:\n",
    "1. IndexError\n",
    "2. KeyError"
   ]
  },
  {
   "cell_type": "code",
   "execution_count": 4,
   "metadata": {},
   "outputs": [
    {
     "name": "stdout",
     "output_type": "stream",
     "text": [
      "Index out of range\n",
      "Key Not Found\n"
     ]
    }
   ],
   "source": [
    "try:\n",
    "    l1=[1,2,3]\n",
    "    print(l1[5])\n",
    "except IndexError:\n",
    "    print(\"Index out of range\")\n",
    "    \n",
    "try:\n",
    "    d1={'a':1,'b':2}\n",
    "    print(d1['c'])\n",
    "except KeyError:\n",
    "    print(\"Key Not Found\")"
   ]
  },
  {
   "cell_type": "markdown",
   "metadata": {},
   "source": [
    "### 03) WAP to handle following exceptions:\n",
    "1. FileNotFoundError\n",
    "2. ModuleNotFoundError"
   ]
  },
  {
   "cell_type": "code",
   "execution_count": 6,
   "metadata": {},
   "outputs": [
    {
     "name": "stdout",
     "output_type": "stream",
     "text": [
      "File you are trying to open does not exist\n",
      "Module you are trying to import does not exist\n"
     ]
    }
   ],
   "source": [
    "try:\n",
    "    with open('file1.txt','r') as file:\n",
    "        result=file.read()\n",
    "except FileNotFoundError:\n",
    "    print(\"File you are trying to open does not exist\")\n",
    "\n",
    "try:\n",
    "    import calculator\n",
    "except ModuleNotFoundError:\n",
    "    print(\"Module you are trying to import does not exist\")"
   ]
  },
  {
   "cell_type": "markdown",
   "metadata": {},
   "source": [
    "### 04) WAP that catches all type of exceptions in a single except block."
   ]
  },
  {
   "cell_type": "code",
   "execution_count": 8,
   "metadata": {},
   "outputs": [
    {
     "name": "stdin",
     "output_type": "stream",
     "text": [
      "Enter a number: 50\n"
     ]
    },
    {
     "name": "stdout",
     "output_type": "stream",
     "text": [
      "0.2\n",
      "[Errno 2] No such file or directory: 'file1.txt'\n"
     ]
    }
   ],
   "source": [
    "try:\n",
    "    num=int(input(\"Enter a number:\"))\n",
    "    result=10/num\n",
    "    print(result)\n",
    "    with open('file1.txt','r') as file:\n",
    "        content=file.read()\n",
    "except Exception as e:\n",
    "    print(e)"
   ]
  },
  {
   "cell_type": "markdown",
   "metadata": {},
   "source": [
    "### 05) WAP to demonstrate else  and finally block."
   ]
  },
  {
   "cell_type": "code",
   "execution_count": 9,
   "metadata": {},
   "outputs": [
    {
     "name": "stdin",
     "output_type": "stream",
     "text": [
      "Enter num 1: 5.5\n"
     ]
    },
    {
     "name": "stdout",
     "output_type": "stream",
     "text": [
      "Enter valid number\n",
      "This block executes, no matter what\n"
     ]
    }
   ],
   "source": [
    "try:\n",
    "    num1=int(input(\"Enter num 1:\"))\n",
    "    num2=int(input(\"Enter num 2:\"))\n",
    "    result=num1/num2\n",
    "except ZeroDivisionError:\n",
    "    print(\"Division by zero is not allowed\")\n",
    "except ValueError:\n",
    "    print(\"Enter valid number\")\n",
    "else:\n",
    "    print(result)\n",
    "finally:\n",
    "    print(\"This block executes, no matter what\")"
   ]
  },
  {
   "cell_type": "markdown",
   "metadata": {},
   "source": [
    "### 06) Create a short program that prompts the user for a list of grades separated by commas. \n",
    "### Split the string into individual grades and use a list comprehension to convert each string to an integer. \n",
    "### You should use a try statement to inform the user when the values they entered cannot be converted."
   ]
  },
  {
   "cell_type": "code",
   "execution_count": 10,
   "metadata": {},
   "outputs": [
    {
     "name": "stdin",
     "output_type": "stream",
     "text": [
      "Enter grades separated by commas:  A,B,C\n"
     ]
    },
    {
     "name": "stdout",
     "output_type": "stream",
     "text": [
      "Error: One or more values could not be converted to integers. Please enter numeric grades only.\n"
     ]
    }
   ],
   "source": [
    "try:\n",
    "    grades = input(\"Enter grades separated by commas: \")\n",
    "    l1 = [int(grade.strip()) for grade in grades.split(',')]\n",
    "    print(l1)\n",
    "except ValueError:\n",
    "    print(\"Error: One or more values could not be converted to integers. Please enter numeric grades only.\")"
   ]
  },
  {
   "cell_type": "markdown",
   "metadata": {},
   "source": [
    "### 07) WAP to create an udf divide(a,b) that handles ZeroDivisionError."
   ]
  },
  {
   "cell_type": "code",
   "execution_count": 11,
   "metadata": {},
   "outputs": [
    {
     "name": "stdout",
     "output_type": "stream",
     "text": [
      "5.0\n",
      "Error: Division by zero is not allowed.\n"
     ]
    }
   ],
   "source": [
    "def divide(a, b):\n",
    "    try:\n",
    "        result = a / b\n",
    "    except ZeroDivisionError:\n",
    "        return \"Error: Division by zero is not allowed.\"\n",
    "    else:\n",
    "        return result\n",
    "\n",
    "\n",
    "print(divide(10, 2)) \n",
    "print(divide(10, 0))"
   ]
  },
  {
   "cell_type": "markdown",
   "metadata": {},
   "source": [
    "### 08) WAP that gets an age of a person form the user and raises ValueError with error message: \"Enter Valid Age\" :\n",
    "#### If the age is less than 18. \n",
    "#### otherwise print the age."
   ]
  },
  {
   "cell_type": "code",
   "execution_count": 13,
   "metadata": {},
   "outputs": [
    {
     "name": "stdin",
     "output_type": "stream",
     "text": [
      "Enter your age:  5\n"
     ]
    },
    {
     "name": "stdout",
     "output_type": "stream",
     "text": [
      "Error: Enter Valid Age\n"
     ]
    }
   ],
   "source": [
    "try:\n",
    "    age = int(input(\"Enter your age: \"))\n",
    "    if age < 18:\n",
    "        raise ValueError(\"Enter Valid Age\")\n",
    "    else:\n",
    "        print(f\"Your age is: {age}\")\n",
    "except ValueError as e:\n",
    "    print(f\"Error: {e}\")"
   ]
  },
  {
   "cell_type": "markdown",
   "metadata": {},
   "source": [
    "### 09) WAP to raise your custom Exception named InvalidUsernameError with the error message : \"Username must be between 5 and 15 characters long\":\n",
    "#### if the given name is having characters less than 5 or greater than 15.\n",
    "#### otherwise print the given username."
   ]
  },
  {
   "cell_type": "code",
   "execution_count": 16,
   "metadata": {},
   "outputs": [
    {
     "name": "stdin",
     "output_type": "stream",
     "text": [
      "Enter a username:  vns\n"
     ]
    },
    {
     "name": "stdout",
     "output_type": "stream",
     "text": [
      "Error \n"
     ]
    }
   ],
   "source": [
    "class InvalidUsernameError(Exception):\n",
    "    def _init_(self, message=\"Username must be between 5 and 15 characters long\"):\n",
    "        self.message = message\n",
    "        super()._init_(self.message)\n",
    "\n",
    "def check_username(username):\n",
    "    if len(username) < 5 or len(username) > 15:\n",
    "        raise InvalidUsernameError()\n",
    "    else:\n",
    "        print(f\"Username: {username}\")\n",
    "\n",
    "\n",
    "try:\n",
    "    username = input(\"Enter a username: \")\n",
    "    check_username(username)\n",
    "except InvalidUsernameError as e:\n",
    "    print(f\"Error {e}\")"
   ]
  },
  {
   "cell_type": "markdown",
   "metadata": {},
   "source": [
    "### 10) WAP to raise your custom Exception named NegativeNumberError with the error message : \"Cannot calculate the square root of a negative number\" :\n",
    "#### if the given number is negative.\n",
    "#### otherwise print the square root of the given number."
   ]
  },
  {
   "cell_type": "code",
   "execution_count": 17,
   "metadata": {},
   "outputs": [
    {
     "name": "stdin",
     "output_type": "stream",
     "text": [
      "Enter a number:  21\n"
     ]
    },
    {
     "name": "stdout",
     "output_type": "stream",
     "text": [
      "The square root of 21.0 is 4.58257569495584\n"
     ]
    }
   ],
   "source": [
    "\n",
    "import math\n",
    "\n",
    "class NegativeNumberError(Exception):\n",
    "    def _init_(self, message=\"Cannot calculate the square root of a negative number\"):\n",
    "        self.message = message\n",
    "        super()._init_(self.message)\n",
    "\n",
    "def calculate_square_root(number):\n",
    "    if number < 0:\n",
    "        raise NegativeNumberError()\n",
    "    else:\n",
    "        return math.sqrt(number)\n",
    "\n",
    "\n",
    "try:\n",
    "    number = float(input(\"Enter a number: \"))\n",
    "    result = calculate_square_root(number)\n",
    "    print(f\"The square root of {number} is {result}\")\n",
    "except NegativeNumberError as e:\n",
    "    print(f\"Error: {e}\")\n",
    "except ValueError:\n",
    "    print(\"Error: Invalid input. Please enter a numeric value.\")"
   ]
  }
 ],
 "metadata": {
  "kernelspec": {
   "display_name": "Python 3 (ipykernel)",
   "language": "python",
   "name": "python3"
  },
  "language_info": {
   "codemirror_mode": {
    "name": "ipython",
    "version": 3
   },
   "file_extension": ".py",
   "mimetype": "text/x-python",
   "name": "python",
   "nbconvert_exporter": "python",
   "pygments_lexer": "ipython3",
   "version": "3.12.7"
  }
 },
 "nbformat": 4,
 "nbformat_minor": 4
}
