{
 "cells": [
  {
   "cell_type": "markdown",
   "metadata": {},
   "source": [
    "<a href='https://www.darshan.ac.in/'> <img src='https://www.darshan.ac.in/Content/media/DU_Logo.svg' width=\"250\" height=\"300\"/></a>\n",
    "<pre>\n",
    "<center><b><h1>Python Programming - 2301CS404</b>\n",
    "<h4>23010101261-Vritti Surani-427</h4></center>\n",
    "<center><b><h1>Lab - 13</b></center>    \n",
    "<pre>"
   ]
  },
  {
   "cell_type": "markdown",
   "metadata": {},
   "source": [
    "# OOP"
   ]
  },
  {
   "cell_type": "markdown",
   "metadata": {},
   "source": [
    "### 01) Write a Program to create a class by name Students, and initialize attributes like name, age, and grade while creating an object."
   ]
  },
  {
   "cell_type": "code",
   "execution_count": 1,
   "metadata": {},
   "outputs": [
    {
     "name": "stdout",
     "output_type": "stream",
     "text": [
      "Student Name: Vritti\n",
      "Age: 19\n",
      "Grade: 4 sem\n"
     ]
    }
   ],
   "source": [
    "class Students:\n",
    "    def __init__(self, name, age, grade):\n",
    "        self.name = name\n",
    "        self.age = age\n",
    "        self.grade = grade\n",
    "\n",
    "    def display_student(self):\n",
    "        print(f\"Student Name: {self.name}\")\n",
    "        print(f\"Age: {self.age}\")\n",
    "        print(f\"Grade: {self.grade}\")\n",
    "\n",
    "student1 = Students(\"Vritti\", 19, \"4 sem\")\n",
    "student1.display_student()\n"
   ]
  },
  {
   "cell_type": "markdown",
   "metadata": {},
   "source": [
    "### 02) Create a class named Bank_Account with Account_No, User_Name, Email,Account_Type and Account_Balance data members. Also create a method GetAccountDetails() and DisplayAccountDetails(). Create main method to demonstrate the Bank_Account class."
   ]
  },
  {
   "cell_type": "code",
   "execution_count": 3,
   "metadata": {},
   "outputs": [
    {
     "name": "stdin",
     "output_type": "stream",
     "text": [
      "Enter Account Number:  123\n",
      "Enter User Name:  Vritti\n",
      "Enter Email:  vnsurani@gmail.com\n",
      "Enter Account Type (Savings/Current):  current\n",
      "Enter Account Balance:  1000000000000\n"
     ]
    },
    {
     "name": "stdout",
     "output_type": "stream",
     "text": [
      "Account Details:\n",
      "Account Number: 123\n",
      "User Name: Vritti\n",
      "Email: vnsurani@gmail.com\n",
      "Account Type: current\n",
      "Account Balance: 1000000000000.0\n"
     ]
    }
   ],
   "source": [
    "class Bank_Account:\n",
    "    def __init__(self, account_no, user_name, email, account_type, balance):\n",
    "        self.account_no = account_no\n",
    "        self.user_name = user_name\n",
    "        self.email = email\n",
    "        self.account_type = account_type\n",
    "        self.balance = balance\n",
    "\n",
    "    def GetAccountDetails(self):\n",
    "        self.account_no = input(\"Enter Account Number: \")\n",
    "        self.user_name = input(\"Enter User Name: \")\n",
    "        self.email = input(\"Enter Email: \")\n",
    "        self.account_type = input(\"Enter Account Type (Savings/Current): \")\n",
    "        self.balance = float(input(\"Enter Account Balance: \"))\n",
    "\n",
    "    def DisplayAccountDetails(self):\n",
    "        print(\"Account Details:\")\n",
    "        print(f\"Account Number: {self.account_no}\")\n",
    "        print(f\"User Name: {self.user_name}\")\n",
    "        print(f\"Email: {self.email}\")\n",
    "        print(f\"Account Type: {self.account_type}\")\n",
    "        print(f\"Account Balance: {self.balance}\")\n",
    "\n",
    "\n",
    "account = Bank_Account(\"\", \"\", \"\", \"\", 0.0)\n",
    "account.GetAccountDetails()\n",
    "account.DisplayAccountDetails()\n"
   ]
  },
  {
   "cell_type": "markdown",
   "metadata": {},
   "source": [
    "### 03) WAP to create Circle class with area and perimeter function to find area and perimeter of circle."
   ]
  },
  {
   "cell_type": "code",
   "execution_count": 5,
   "metadata": {},
   "outputs": [
    {
     "name": "stdin",
     "output_type": "stream",
     "text": [
      "Enter radius of the circle:  48\n"
     ]
    },
    {
     "name": "stdout",
     "output_type": "stream",
     "text": [
      "Area of Circle: 7238.23\n",
      "Perimeter of Circle: 301.59\n"
     ]
    }
   ],
   "source": [
    "import math\n",
    "\n",
    "class Circle:\n",
    "    def __init__(self, radius):\n",
    "        self.radius = radius\n",
    "\n",
    "    def area(self):\n",
    "        return math.pi * self.radius ** 2\n",
    "\n",
    "    def perimeter(self):\n",
    "        return 2 * math.pi * self.radius\n",
    "\n",
    "r = float(input(\"Enter radius of the circle: \"))\n",
    "circle = Circle(r)\n",
    "print(f\"Area of Circle: {circle.area():.2f}\")\n",
    "print(f\"Perimeter of Circle: {circle.perimeter():.2f}\")\n"
   ]
  },
  {
   "cell_type": "markdown",
   "metadata": {},
   "source": [
    "### 04) Create a class for employees that includes attributes such as name, age, salary, and methods to update and display employee information."
   ]
  },
  {
   "cell_type": "code",
   "execution_count": 7,
   "metadata": {},
   "outputs": [
    {
     "name": "stdout",
     "output_type": "stream",
     "text": [
      "Employee Name: Vritti Surani\n",
      "Age: 19\n",
      "Salary: 500000\n",
      "Updated Employee Information\n",
      "\n",
      "Employee Name: Vritti Surani\n",
      "Age: 31\n",
      "Salary: 55000\n"
     ]
    }
   ],
   "source": [
    "class Employee:\n",
    "    def __init__(self, name, age, salary):\n",
    "        self.name = name\n",
    "        self.age = age\n",
    "        self.salary = salary\n",
    "\n",
    "    def update_info(self, name=None, age=None, salary=None):\n",
    "        if name:\n",
    "            self.name = name\n",
    "        if age:\n",
    "            self.age = age\n",
    "        if salary:\n",
    "            self.salary = salary\n",
    "\n",
    "    def display_info(self):\n",
    "        print(f\"Employee Name: {self.name}\")\n",
    "        print(f\"Age: {self.age}\")\n",
    "        print(f\"Salary: {self.salary}\")\n",
    "\n",
    "emp1 = Employee(\"Vritti Surani\", 19, 500000)\n",
    "emp1.display_info()\n",
    "\n",
    "print(\"Updated Employee Information\\n\")\n",
    "emp1.update_info(age=31, salary=55000)\n",
    "emp1.display_info()\n"
   ]
  },
  {
   "cell_type": "markdown",
   "metadata": {},
   "source": [
    "### 05) Create a bank account class with methods to deposit, withdraw, and check balance."
   ]
  },
  {
   "cell_type": "code",
   "execution_count": 11,
   "metadata": {},
   "outputs": [
    {
     "name": "stdout",
     "output_type": "stream",
     "text": [
      "₹5000 deposited successfully!\n",
      "₹2000 withdrawn successfully!\n",
      "Current Balance: ₹3000.0\n"
     ]
    }
   ],
   "source": [
    "class BankAccount:\n",
    "    def __init__(self, account_no, balance=0.0):\n",
    "        self.account_no = account_no\n",
    "        self.balance = balance\n",
    "\n",
    "    def deposit(self, amount):\n",
    "        if amount > 0:\n",
    "            self.balance += amount\n",
    "            print(f\"₹{amount} deposited successfully!\")\n",
    "        else:\n",
    "            print(\"Invalid deposit amount!\")\n",
    "\n",
    "    def withdraw(self, amount):\n",
    "        if 0 < amount <= self.balance:\n",
    "            self.balance -= amount\n",
    "            print(f\"₹{amount} withdrawn successfully!\")\n",
    "        else:\n",
    "            print(\"Insufficient balance or invalid amount!\")\n",
    "\n",
    "    def check_balance(self):\n",
    "        print(f\"Current Balance: ₹{self.balance}\")\n",
    "\n",
    "account = BankAccount(\"123456789\")\n",
    "account.deposit(5000)\n",
    "account.withdraw(2000)\n",
    "account.check_balance()\n"
   ]
  },
  {
   "cell_type": "markdown",
   "metadata": {},
   "source": [
    "### 06) Create a class for managing inventory that includes attributes such as item name, price, quantity, and methods to add, remove, and update items."
   ]
  },
  {
   "cell_type": "code",
   "execution_count": 13,
   "metadata": {},
   "outputs": [
    {
     "name": "stdout",
     "output_type": "stream",
     "text": [
      "Added 5 Laptop(s).\n",
      "Added 10 Mouse(s).\n",
      " Inventory:\n",
      "Laptop: ₹50000, Qty: 5\n",
      "Mouse: ₹500, Qty: 10\n",
      "Updated Laptop price to ₹48000.\n",
      "Removed 3 Mouse(s).\n",
      " Inventory:\n",
      "Laptop: ₹48000, Qty: 5\n",
      "Mouse: ₹500, Qty: 7\n"
     ]
    }
   ],
   "source": [
    "class Inventory:\n",
    "    def __init__(self):\n",
    "        self.items = {}\n",
    "\n",
    "    def add_item(self, name, price, qty):\n",
    "        self.items[name] = {\"price\": price, \"quantity\": self.items.get(name, {}).get(\"quantity\", 0) + qty}\n",
    "        print(f\"Added {qty} {name}(s).\")\n",
    "\n",
    "    def remove_item(self, name, qty):\n",
    "        if name in self.items and self.items[name][\"quantity\"] >= qty:\n",
    "            self.items[name][\"quantity\"] -= qty\n",
    "            if self.items[name][\"quantity\"] == 0:\n",
    "                del self.items[name]\n",
    "            print(f\"Removed {qty} {name}(s).\")\n",
    "        else:\n",
    "            print(\"Not enough stock or item not found!\")\n",
    "\n",
    "    def update_price(self, name, price):\n",
    "        if name in self.items:\n",
    "            self.items[name][\"price\"] = price\n",
    "            print(f\"Updated {name} price to ₹{price}.\")\n",
    "        else:\n",
    "            print(\"Item not found!\")\n",
    "\n",
    "    def display(self):\n",
    "        print(\" Inventory:\")\n",
    "        for name, details in self.items.items():\n",
    "            print(f\"{name}: ₹{details['price']}, Qty: {details['quantity']}\")\n",
    "        if not self.items:\n",
    "            print(\"Inventory is empty!\")\n",
    "\n",
    "inv = Inventory()\n",
    "inv.add_item(\"Laptop\", 50000, 5)\n",
    "inv.add_item(\"Mouse\", 500, 10)\n",
    "inv.display()\n",
    "inv.update_price(\"Laptop\", 48000)\n",
    "inv.remove_item(\"Mouse\", 3)\n",
    "inv.display()\n"
   ]
  },
  {
   "cell_type": "markdown",
   "metadata": {},
   "source": [
    "### 07) Create a Class with instance attributes of your choice."
   ]
  },
  {
   "cell_type": "code",
   "execution_count": 15,
   "metadata": {},
   "outputs": [
    {
     "name": "stdout",
     "output_type": "stream",
     "text": [
      "Car: Toyota Innova, Year: 2025\n"
     ]
    }
   ],
   "source": [
    "class Car:\n",
    "    def __init__(self, brand, model, year):\n",
    "        self.brand = brand\n",
    "        self.model = model\n",
    "        self.year = year\n",
    "\n",
    "    def display_info(self):\n",
    "        print(f\"Car: {self.brand} {self.model}, Year: {self.year}\")\n",
    "\n",
    "car1 = Car(\"Toyota\", \"Innova\", 2025)\n",
    "car1.display_info()\n"
   ]
  },
  {
   "cell_type": "markdown",
   "metadata": {},
   "source": [
    "### 08) Create one class student_kit\n",
    "#### Within the student_kit class create one class attribute principal name ( Mr ABC )\n",
    "#### Create one attendance method and take input as number of days.\n",
    "#### While creating student take input their name .\n",
    "#### Create one certificate for each student by taking input of number of days present in class."
   ]
  },
  {
   "cell_type": "code",
   "execution_count": 8,
   "metadata": {},
   "outputs": [
    {
     "name": "stdin",
     "output_type": "stream",
     "text": [
      "Enter Student Name:  Vritti Surani\n",
      "Enter number of days present:  270\n"
     ]
    },
    {
     "name": "stdout",
     "output_type": "stream",
     "text": [
      "Certificate of Attendance\n",
      "Student Name: Vritti Surani\n",
      "Principal: Ms. Vritti\n",
      "Days Attended: 270\n",
      "Congratulations on your participation\n"
     ]
    }
   ],
   "source": [
    "class Student_Kit:\n",
    "    principal_name = \"Ms. Vritti\"  \n",
    "\n",
    "    def __init__(self, name):\n",
    "        self.name = name\n",
    "        self.attendance_days = 0\n",
    "\n",
    "    def attendance(self, days):\n",
    "        self.attendance_days = days\n",
    "\n",
    "    def generate_certificate(self):\n",
    "        print(\"Certificate of Attendance\")\n",
    "        print(f\"Student Name: {self.name}\")\n",
    "        print(f\"Principal: {Student_Kit.principal_name}\")\n",
    "        print(f\"Days Attended: {self.attendance_days}\")\n",
    "        print(\"Congratulations on your participation\")\n",
    "\n",
    "\n",
    "student1 = Student_Kit(input(\"Enter Student Name: \")) \n",
    "days_present = int(input(\"Enter number of days present: \"))\n",
    "student1.attendance(days_present)\n",
    "student1.generate_certificate()\n"
   ]
  },
  {
   "cell_type": "markdown",
   "metadata": {},
   "source": [
    "### 09) Define Time class with hour and minute as data member. Also define addition method to add two time objects."
   ]
  },
  {
   "cell_type": "code",
   "execution_count": 23,
   "metadata": {},
   "outputs": [
    {
     "name": "stdout",
     "output_type": "stream",
     "text": [
      "Total Time:\n",
      "4 Hours and 20 Minutes\n"
     ]
    }
   ],
   "source": [
    "class Time:\n",
    "    def __init__(self, hours, minutes):\n",
    "        self.hours = hours\n",
    "        self.minutes = minutes\n",
    "\n",
    "    def add_time(self, other):\n",
    "        total_minutes = self.minutes + other.minutes\n",
    "        extra_hours = total_minutes // 60\n",
    "        new_hours = self.hours + other.hours + extra_hours\n",
    "        new_minutes = total_minutes % 60\n",
    "        return Time(new_hours, new_minutes)\n",
    "\n",
    "    def display(self):\n",
    "        print(f\"{self.hours} Hours and {self.minutes} Minutes\")\n",
    "\n",
    "\n",
    "t1 = Time(2, 50)\n",
    "t2 = Time(1, 30)\n",
    "\n",
    "result = t1.add_time(t2)\n",
    "print(\"Total Time:\")\n",
    "result.display()\n"
   ]
  },
  {
   "cell_type": "code",
   "execution_count": null,
   "metadata": {},
   "outputs": [],
   "source": []
  }
 ],
 "metadata": {
  "kernelspec": {
   "display_name": "Python 3 (ipykernel)",
   "language": "python",
   "name": "python3"
  },
  "language_info": {
   "codemirror_mode": {
    "name": "ipython",
    "version": 3
   },
   "file_extension": ".py",
   "mimetype": "text/x-python",
   "name": "python",
   "nbconvert_exporter": "python",
   "pygments_lexer": "ipython3",
   "version": "3.12.7"
  }
 },
 "nbformat": 4,
 "nbformat_minor": 4
}
