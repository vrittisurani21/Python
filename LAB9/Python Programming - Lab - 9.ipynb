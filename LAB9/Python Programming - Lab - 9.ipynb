{
 "cells": [
  {
   "cell_type": "markdown",
   "metadata": {},
   "source": [
    "<a href='https://www.darshan.ac.in/'> <img src='https://www.darshan.ac.in/Content/media/DU_Logo.svg' width=\"250\" height=\"300\"/></a>\n",
    "<pre>\n",
    "<center><b><h1>Python Programming - 2301CS404</b></center>\n",
    "<center><b><h1>Lab - 9</b></center>    \n",
    "<pre>"
   ]
  },
  {
   "cell_type": "markdown",
   "metadata": {},
   "source": [
    "# File I/O"
   ]
  },
  {
   "cell_type": "markdown",
   "metadata": {},
   "source": [
    "### 01) WAP to read and display the contents of a text file. (also try to open the file in some other directory) \n",
    "#### - in the form of a string\n",
    "#### - line by line\n",
    "#### - in the form of a list"
   ]
  },
  {
   "cell_type": "code",
   "execution_count": 9,
   "metadata": {},
   "outputs": [
    {
     "name": "stdout",
     "output_type": "stream",
     "text": [
      "My name is Vritti Surani. I am currently pursuing Btech CSE from Darshan University.\n",
      "<class 'str'>\n"
     ]
    }
   ],
   "source": [
    " fp = open(\"Demo9.txt\",\"r\")\n",
    " str1 = fp.read()\n",
    " print(str1)\n",
    " print(type(str1))\n",
    " fp.close()"
   ]
  },
  {
   "cell_type": "code",
   "execution_count": 43,
   "metadata": {},
   "outputs": [],
   "source": [
    "#line by line"
   ]
  },
  {
   "cell_type": "code",
   "execution_count": 14,
   "metadata": {},
   "outputs": [
    {
     "name": "stdout",
     "output_type": "stream",
     "text": [
      "['My name is Vritti Surani. I am currently pursuing Btech CSE from Darshan University.']\n"
     ]
    }
   ],
   "source": [
    " fp = open(\"Demo9.txt\",\"r\")\n",
    " li = fp.readlines()\n",
    " print(li)\n",
    " fp.close()"
   ]
  },
  {
   "cell_type": "markdown",
   "metadata": {},
   "source": [
    "### 02) WAP to create file named \"new.txt\" only if it doesn't exist."
   ]
  },
  {
   "cell_type": "code",
   "execution_count": 15,
   "metadata": {},
   "outputs": [
    {
     "name": "stdout",
     "output_type": "stream",
     "text": [
      "File \"new.txt\" created successfully.\n"
     ]
    }
   ],
   "source": [
    "\n",
    "file_path = 'new.txt'\n",
    "\n",
    "with open(file_path, 'w') as file:\n",
    "    file.write('')  \n",
    "\n",
    "print(f'File \"{file_path}\" created successfully.')\n"
   ]
  },
  {
   "cell_type": "markdown",
   "metadata": {},
   "source": [
    "### 03) WAP to read first 5 lines from the text file."
   ]
  },
  {
   "cell_type": "code",
   "execution_count": 16,
   "metadata": {},
   "outputs": [
    {
     "name": "stdout",
     "output_type": "stream",
     "text": [
      "My name is Vritti Surani. I am currently pursuing Btech CSE from Darshan University.\n",
      "Drashti is in my class.\n",
      "Rajvi is absent today.\n",
      "Dharashvi and Disha are studdying in different classes.\n",
      "Priya is working very seriously on python.\n"
     ]
    }
   ],
   "source": [
    "file = open(\"Demo9.txt\", \"r\")\n",
    "for i in range(5):\n",
    "    line = file.readline().strip()\n",
    "    if not line:\n",
    "        break\n",
    "    print(line)\n",
    "file.close()"
   ]
  },
  {
   "cell_type": "markdown",
   "metadata": {},
   "source": [
    "### 04) WAP to find the longest word(s) in a file"
   ]
  },
  {
   "cell_type": "code",
   "execution_count": 17,
   "metadata": {},
   "outputs": [
    {
     "name": "stdout",
     "output_type": "stream",
     "text": [
      "Longest word(s): ['University.']\n"
     ]
    }
   ],
   "source": [
    "file_path = 'Demo9.txt'  \n",
    "\n",
    "with open(file_path, 'r') as file:\n",
    "    words = file.read().split()\n",
    "\n",
    "max_length = max(len(word) for word in words)\n",
    "longest_words = [word for word in words if len(word) == max_length]\n",
    "\n",
    "print(\"Longest word(s):\", longest_words)\n"
   ]
  },
  {
   "cell_type": "markdown",
   "metadata": {},
   "source": [
    "### 05) WAP to count the no. of lines, words and characters in a given text file."
   ]
  },
  {
   "cell_type": "code",
   "execution_count": 18,
   "metadata": {},
   "outputs": [
    {
     "name": "stdout",
     "output_type": "stream",
     "text": [
      "292\n"
     ]
    }
   ],
   "source": [
    "#characters\n",
    "fp = open(\"Demo9.txt\",\"r\")\n",
    "li = fp.read()\n",
    "print(len(li))"
   ]
  },
  {
   "cell_type": "code",
   "execution_count": 20,
   "metadata": {},
   "outputs": [
    {
     "name": "stdout",
     "output_type": "stream",
     "text": [
      "6\n"
     ]
    }
   ],
   "source": [
    "#lines\n",
    "fp = open(\"Demo9.txt\",\"r\")\n",
    "li = fp.readlines()\n",
    "print(len(li))"
   ]
  },
  {
   "cell_type": "code",
   "execution_count": 22,
   "metadata": {},
   "outputs": [
    {
     "name": "stdout",
     "output_type": "stream",
     "text": [
      "49\n"
     ]
    }
   ],
   "source": [
    "#words\n",
    "fp = open(\"Demo9.txt\",\"r\")\n",
    "li = fp.read().split()\n",
    "print(len(li))"
   ]
  },
  {
   "cell_type": "markdown",
   "metadata": {},
   "source": [
    "### 06) WAP to copy the content of a file to the another file."
   ]
  },
  {
   "cell_type": "code",
   "execution_count": 27,
   "metadata": {},
   "outputs": [
    {
     "name": "stdout",
     "output_type": "stream",
     "text": [
      "File created successfully.\n"
     ]
    }
   ],
   "source": [
    "fp = open(\"Demo9.txt\",\"r\")\n",
    "a = fp.read()\n",
    "fp1 = open(\"new.txt\",\"w\")\n",
    "fp1.write(a)\n",
    "fp.close()\n",
    "fp1.close()\n",
    "print(f'File created successfully.')"
   ]
  },
  {
   "cell_type": "markdown",
   "metadata": {},
   "source": [
    "### 07) WAP to find the size of the text file. "
   ]
  },
  {
   "cell_type": "code",
   "execution_count": 30,
   "metadata": {},
   "outputs": [
    {
     "name": "stdout",
     "output_type": "stream",
     "text": [
      "File Size in Bytes: 292\n"
     ]
    }
   ],
   "source": [
    "file_path = 'Demo9.txt'\n",
    "file_size = os.path.getsize(file_path)\n",
    "print(\"File Size in Bytes:\", file_size)"
   ]
  },
  {
   "cell_type": "markdown",
   "metadata": {},
   "source": [
    "### 08) WAP to create an UDF named frequency to count occurances of the specific word in a given text file."
   ]
  },
  {
   "cell_type": "code",
   "execution_count": 31,
   "metadata": {},
   "outputs": [
    {
     "name": "stdin",
     "output_type": "stream",
     "text": [
      "Enter the file path:  Demo9.txt\n",
      "Enter the word to count:  is\n"
     ]
    },
    {
     "name": "stdout",
     "output_type": "stream",
     "text": [
      "The word 'is' appears 4 times in the file.\n"
     ]
    }
   ],
   "source": [
    "file_path = input(\"Enter the file path: \")\n",
    "word = input(\"Enter the word to count: \")\n",
    "\n",
    "file = open(file_path, \"r\")\n",
    "text = file.read().lower()\n",
    "count = text.split().count(word.lower())\n",
    "file.close()\n",
    "\n",
    "print(f\"The word '{word}' appears {count} times in the file.\")\n"
   ]
  },
  {
   "cell_type": "markdown",
   "metadata": {},
   "source": [
    "### 09) WAP to get the score of five subjects from the user, store them in a file. Fetch those marks and find the highest score."
   ]
  },
  {
   "cell_type": "code",
   "execution_count": 34,
   "metadata": {},
   "outputs": [
    {
     "name": "stdin",
     "output_type": "stream",
     "text": [
      "Enter the score for subject 1:  20\n",
      "Enter the score for subject 2:  45\n",
      "Enter the score for subject 3:  8\n",
      "Enter the score for subject 4:  6\n",
      "Enter the score for subject 5:  25\n"
     ]
    },
    {
     "name": "stdout",
     "output_type": "stream",
     "text": [
      "The highest score is: 45\n"
     ]
    }
   ],
   "source": [
    "scores = []\n",
    "for i in range(1, 6):\n",
    "    score = int(input(f\"Enter the score for subject {i}: \"))\n",
    "    scores.append(score)\n",
    "\n",
    "file = open(\"Demo9.txt\", \"w\")\n",
    "for score in scores:\n",
    "    file.write(str(score) + \"\\n\")\n",
    "file.close()\n",
    "\n",
    "file = open(\"Demo9.txt\", \"r\")\n",
    "scores_from_file = [int(line.strip()) for line in file.readlines()]\n",
    "file.close()\n",
    "\n",
    "highest_score = max(scores_from_file)\n",
    "print(f\"The highest score is: {highest_score}\")\n"
   ]
  },
  {
   "cell_type": "markdown",
   "metadata": {},
   "source": [
    "### 10) WAP to write first 100 prime numbers to a file named primenumbers.txt \n",
    "(Note: each number should be in new line)"
   ]
  },
  {
   "cell_type": "code",
   "execution_count": 36,
   "metadata": {},
   "outputs": [
    {
     "name": "stdout",
     "output_type": "stream",
     "text": [
      "file is created\n"
     ]
    }
   ],
   "source": [
    "limit = 100\n",
    "primes = []\n",
    "num = 2\n",
    "\n",
    "while len(primes) < limit:\n",
    "    is_prime = True\n",
    "    for i in range(2, int(num**0.5) + 1):\n",
    "        if num % i == 0:\n",
    "            is_prime = False\n",
    "            break\n",
    "    if is_prime:\n",
    "        primes.append(num)\n",
    "    num += 1\n",
    "\n",
    "with open(\"primenumbers.txt\", 'w') as file:\n",
    "    for prime in primes:\n",
    "        file.write(f\"{prime}\\n\")\n",
    "    print(f'file is created')"
   ]
  },
  {
   "cell_type": "markdown",
   "metadata": {},
   "source": [
    "### 11) WAP to merge two files and write it in a new file."
   ]
  },
  {
   "cell_type": "code",
   "execution_count": null,
   "metadata": {},
   "outputs": [],
   "source": []
  },
  {
   "cell_type": "markdown",
   "metadata": {},
   "source": [
    "### 12) WAP to replace word1 by word2 of a text file. Write the updated data to new file."
   ]
  },
  {
   "cell_type": "code",
   "execution_count": null,
   "metadata": {},
   "outputs": [],
   "source": []
  },
  {
   "cell_type": "markdown",
   "metadata": {},
   "source": [
    "### 13) Demonstrate tell() and seek() for all the cases(seek from beginning-end-current position) taking a suitable example of your choice."
   ]
  },
  {
   "cell_type": "code",
   "execution_count": null,
   "metadata": {},
   "outputs": [],
   "source": []
  }
 ],
 "metadata": {
  "kernelspec": {
   "display_name": "Python 3 (ipykernel)",
   "language": "python",
   "name": "python3"
  },
  "language_info": {
   "codemirror_mode": {
    "name": "ipython",
    "version": 3
   },
   "file_extension": ".py",
   "mimetype": "text/x-python",
   "name": "python",
   "nbconvert_exporter": "python",
   "pygments_lexer": "ipython3",
   "version": "3.12.7"
  }
 },
 "nbformat": 4,
 "nbformat_minor": 4
}
