{
 "cells": [
  {
   "cell_type": "markdown",
   "metadata": {},
   "source": [
    "<a href='https://www.darshan.ac.in/'> <img src='https://www.darshan.ac.in/Content/media/DU_Logo.svg' width=\"250\" height=\"300\"/></a>\n",
    "<pre>\n",
    "<center><b><h1>Python Programming - 2301CS404</b>\n",
    "<h4>23010101261-Vritti Surani-427</h4></center>\n",
    "<center><b><h1>Lab - 9</b></center>    \n",
    "<pre>"
   ]
  },
  {
   "cell_type": "markdown",
   "metadata": {},
   "source": [
    "# File I/O"
   ]
  },
  {
   "cell_type": "markdown",
   "metadata": {},
   "source": [
    "### 01) WAP to read and display the contents of a text file. (also try to open the file in some other directory) \n",
    "#### - in the form of a string\n",
    "#### - line by line\n",
    "#### - in the form of a list"
   ]
  },
  {
   "cell_type": "code",
   "execution_count": 9,
   "metadata": {},
   "outputs": [
    {
     "name": "stdout",
     "output_type": "stream",
     "text": [
      "in the form of a string:\n",
      "Drashti Rathod \n",
      "Python\n",
      "Lab 9\n",
      "\n",
      "line by line:\n",
      "Drashti Rathod\n",
      "Python\n",
      "Lab 9\n",
      "\n",
      "in the form of a list:\n",
      "['Drashti Rathod \\n', 'Python\\n', 'Lab 9']\n"
     ]
    }
   ],
   "source": [
    "file_path = 'demo9.txt'\n",
    "\n",
    "#in the form of a string\n",
    "with open(file_path, 'r') as file:\n",
    "    content_as_string = file.read()\n",
    "print(\"in the form of a string:\")\n",
    "print(content_as_string)\n",
    "\n",
    "#line by line\n",
    "print(\"\\nline by line:\")\n",
    "with open(file_path, 'r') as file:\n",
    "    for line in file:\n",
    "        print(line.strip()) \n",
    "\n",
    "#in the form of a list\n",
    "with open(file_path, 'r') as file:\n",
    "    content_as_list = file.readlines()\n",
    "print(\"\\nin the form of a list:\")\n",
    "print(content_as_list)"
   ]
  },
  {
   "cell_type": "markdown",
   "metadata": {},
   "source": [
    "### 02) WAP to create file named \"new.txt\" only if it doesn't exist."
   ]
  },
  {
   "cell_type": "code",
   "execution_count": 59,
   "metadata": {},
   "outputs": [
    {
     "name": "stdout",
     "output_type": "stream",
     "text": [
      "File \"new.txt\" created successfully.\n"
     ]
    }
   ],
   "source": [
    "file_path = 'new.txt'\n",
    "\n",
    "with open(file_path, 'w') as file:\n",
    "    file.write('')  \n",
    "\n",
    "print(f'File \"{file_path}\" created successfully.')"
   ]
  },
  {
   "cell_type": "markdown",
   "metadata": {},
   "source": [
    "### 03) WAP to read first 5 lines from the text file."
   ]
  },
  {
   "cell_type": "code",
   "execution_count": 17,
   "metadata": {},
   "outputs": [
    {
     "name": "stdout",
     "output_type": "stream",
     "text": [
      "Drashti Rathod\n",
      "Python\n",
      "Lab 9\n",
      "tata\n",
      "ye baby\n"
     ]
    }
   ],
   "source": [
    "file = open(\"demo9.txt\", \"r\")\n",
    "for i in range(5):\n",
    "    line = file.readline().strip()\n",
    "    if not line:\n",
    "        break\n",
    "    print(line)\n",
    "file.close()"
   ]
  },
  {
   "cell_type": "markdown",
   "metadata": {},
   "source": [
    "### 04) WAP to find the longest word(s) in a file"
   ]
  },
  {
   "cell_type": "code",
   "execution_count": 69,
   "metadata": {},
   "outputs": [
    {
     "name": "stdout",
     "output_type": "stream",
     "text": [
      "Longest word(s): ['DrashtiRathod']\n"
     ]
    }
   ],
   "source": [
    "file_path = 'demo9.txt'  \n",
    "\n",
    "with open(file_path, 'r') as file:\n",
    "    words = file.read().split()\n",
    "\n",
    "max_length = max(len(word) for word in words)\n",
    "longest_words = [word for word in words if len(word) == max_length]\n",
    "\n",
    "print(\"Longest word(s):\", longest_words)"
   ]
  },
  {
   "cell_type": "markdown",
   "metadata": {},
   "source": [
    "### 05) WAP to count the no. of lines, words and characters in a given text file."
   ]
  },
  {
   "cell_type": "code",
   "execution_count": 39,
   "metadata": {},
   "outputs": [
    {
     "name": "stdout",
     "output_type": "stream",
     "text": [
      "68\n"
     ]
    }
   ],
   "source": [
    "fp = open(\"demo9.txt\",\"r\")\n",
    "li = fp.read()\n",
    "print(len(li))"
   ]
  },
  {
   "cell_type": "code",
   "execution_count": 53,
   "metadata": {},
   "outputs": [
    {
     "name": "stdout",
     "output_type": "stream",
     "text": [
      "7\n"
     ]
    }
   ],
   "source": [
    "fp = open(\"demo9.txt\",\"r\")\n",
    "li = fp.readlines()\n",
    "print(len(li))"
   ]
  },
  {
   "cell_type": "markdown",
   "metadata": {},
   "source": [
    "### 06) WAP to copy the content of a file to the another file."
   ]
  },
  {
   "cell_type": "code",
   "execution_count": 61,
   "metadata": {},
   "outputs": [],
   "source": [
    "fp = open(\"demo9.txt\",\"r\")\n",
    "a = fp.read()\n",
    "fp1 = open(\"new_abc.txt\",\"w\")\n",
    "fp1.write(a)\n",
    "fp.close()\n",
    "fp1.close()"
   ]
  },
  {
   "cell_type": "markdown",
   "metadata": {},
   "source": [
    "### 07) WAP to find the size of the text file. "
   ]
  },
  {
   "cell_type": "code",
   "execution_count": 63,
   "metadata": {},
   "outputs": [
    {
     "name": "stdout",
     "output_type": "stream",
     "text": [
      "File Size in Bytes: 74\n"
     ]
    }
   ],
   "source": [
    "import os\n",
    "\n",
    "file_path = 'demo9.txt'\n",
    "file_size = os.path.getsize(file_path)\n",
    "print(\"File Size in Bytes:\", file_size)"
   ]
  },
  {
   "cell_type": "markdown",
   "metadata": {},
   "source": [
    "### 08) WAP to create an UDF named frequency to count occurances of the specific word in a given text file."
   ]
  },
  {
   "cell_type": "code",
   "execution_count": 16,
   "metadata": {},
   "outputs": [
    {
     "name": "stdout",
     "output_type": "stream",
     "text": [
      "The word 'tu' occurs 4 times in the file 'demo9.txt'.\n"
     ]
    }
   ],
   "source": [
    "def frequency(filename, word):\n",
    "    with open(filename, 'r') as file:\n",
    "        content = file.read()\n",
    "\n",
    "    word_count = content.count(word)\n",
    "    return word_count\n",
    "\n",
    "# Example usage\n",
    "filename = 'demo9.txt'  \n",
    "word = 'tu'  \n",
    "count = frequency(filename, word)\n",
    "\n",
    "print(f\"The word '{word}' occurs {count} times in the file '{filename}'.\")\n"
   ]
  },
  {
   "cell_type": "markdown",
   "metadata": {},
   "source": [
    "### 09) WAP to get the score of five subjects from the user, store them in a file. Fetch those marks and find the highest score."
   ]
  },
  {
   "cell_type": "code",
   "execution_count": 3,
   "metadata": {},
   "outputs": [
    {
     "name": "stdin",
     "output_type": "stream",
     "text": [
      "Enter the score for subject 1:  15\n",
      "Enter the score for subject 2:  58\n",
      "Enter the score for subject 3:  78\n",
      "Enter the score for subject 4:  15\n",
      "Enter the score for subject 5:  98\n"
     ]
    },
    {
     "name": "stdout",
     "output_type": "stream",
     "text": [
      "The highest score is: 98\n"
     ]
    }
   ],
   "source": [
    "scores = []\n",
    "for i in range(1, 6):\n",
    "    score = int(input(f\"Enter the score for subject {i}: \"))\n",
    "    scores.append(score)\n",
    "\n",
    "file = open(\"abc.txt\", \"w\")\n",
    "for score in scores:\n",
    "    file.write(str(score) + \"\\n\")\n",
    "file.close()\n",
    "\n",
    "file = open(\"abc.txt\", \"r\")\n",
    "scores_from_file = [int(line.strip()) for line in file.readlines()]\n",
    "file.close()\n",
    "\n",
    "highest_score = max(scores_from_file)\n",
    "print(f\"The highest score is: {highest_score}\")"
   ]
  },
  {
   "cell_type": "markdown",
   "metadata": {},
   "source": [
    "### 10) WAP to write first 100 prime numbers to a file named primenumbers.txt \n",
    "(Note: each number should be in new line)"
   ]
  },
  {
   "cell_type": "code",
   "execution_count": 10,
   "metadata": {},
   "outputs": [
    {
     "name": "stdout",
     "output_type": "stream",
     "text": [
      "File opened\n"
     ]
    }
   ],
   "source": [
    "limit = 100\n",
    "primes = []\n",
    "num = 2\n",
    "\n",
    "while len(primes) < limit:\n",
    "    is_prime = True\n",
    "    for i in range(2, int(num**0.5) + 1):\n",
    "        if num % i == 0:\n",
    "            is_prime = False\n",
    "            break\n",
    "    if is_prime:\n",
    "        primes.append(num)\n",
    "    num += 1\n",
    "\n",
    "with open(\"primenumbers.txt\", 'w') as file:\n",
    "    for prime in primes:\n",
    "        file.write(f\"{prime}\\n\")\n",
    "    print(f'File opened')\n",
    "        "
   ]
  },
  {
   "cell_type": "markdown",
   "metadata": {},
   "source": [
    "### 11) WAP to merge two files and write it in a new file."
   ]
  },
  {
   "cell_type": "code",
   "execution_count": 14,
   "metadata": {},
   "outputs": [
    {
     "name": "stdout",
     "output_type": "stream",
     "text": [
      "File merged\n"
     ]
    }
   ],
   "source": [
    "with open('demo9.txt', 'r') as file1, open('new_abc.txt', 'r') as file2:\n",
    "    content1 = file1.read()\n",
    "    content2 = file2.read()\n",
    "with open('merged_file.txt', 'w') as merged_file:\n",
    "    merged_file.write(content1)\n",
    "    merged_file.write(content2)\n",
    "print(f'File merged')\n"
   ]
  },
  {
   "cell_type": "markdown",
   "metadata": {},
   "source": [
    "### 12) WAP to replace word1 by word2 of a text file. Write the updated data to new file."
   ]
  },
  {
   "cell_type": "code",
   "execution_count": 20,
   "metadata": {},
   "outputs": [
    {
     "name": "stdout",
     "output_type": "stream",
     "text": [
      "Word replaced\n"
     ]
    }
   ],
   "source": [
    "word1 = 'yehh'\n",
    "word2 = 'baby'\n",
    "\n",
    "with open('demo9.txt', 'r') as input_file:\n",
    "    content = input_file.read()\n",
    "\n",
    "updated_content = content.replace(word1, word2)\n",
    "\n",
    "with open('output_file.txt', 'w') as output_file:\n",
    "    output_file.write(updated_content)\n",
    "print(f'Word replaced')\n"
   ]
  },
  {
   "cell_type": "markdown",
   "metadata": {},
   "source": [
    "### 13) Demonstrate tell() and seek() for all the cases(seek from beginning-end-current position) taking a suitable example of your choice."
   ]
  },
  {
   "cell_type": "code",
   "execution_count": 11,
   "metadata": {},
   "outputs": [
    {
     "name": "stdout",
     "output_type": "stream",
     "text": [
      "Initial position: 0\n",
      "Read line: b'DrashtiRathod'\n",
      "Position after reading first line: 16\n",
      "Position after seek(0): 0\n",
      "Read 5 characters: b'Drash'\n",
      "Position after reading 5 characters: 5\n",
      "Position after seek(0, 2) (End of file): 74\n"
     ]
    }
   ],
   "source": [
    "# Open the file in read mode\n",
    "with open('demo9.txt', 'rb') as file:   #used 'rb' instead of 'r' means binary mode\n",
    "    \n",
    "    # Case 1: tell() at the beginning\n",
    "    print(\"Initial position:\", file.tell())  \n",
    "    \n",
    "    # Read the first line\n",
    "    first_line = file.readline()\n",
    "    print(\"Read line:\", first_line.strip())\n",
    "    \n",
    "    # Case 2: tell() after reading a line\n",
    "    print(\"Position after reading first line:\", file.tell())\n",
    "\n",
    "    # Seek to the beginning of the file\n",
    "    file.seek(0)\n",
    "    print(\"Position after seek(0):\", file.tell())  \n",
    "\n",
    "    # Read first 5 characters\n",
    "    partial_read = file.read(5)\n",
    "    print(\"Read 5 characters:\", partial_read)\n",
    "\n",
    "    # Case 3: tell() after reading 5 characters\n",
    "    print(\"Position after reading 5 characters:\", file.tell())\n",
    "\n",
    "    # Seek to the end of the file\n",
    "    file.seek(0, 2)  # Seek to end\n",
    "    print(\"Position after seek(0, 2) (End of file):\", file.tell())"
   ]
  },
  {
   "cell_type": "code",
   "execution_count": null,
   "metadata": {},
   "outputs": [],
   "source": []
  }
 ],
 "metadata": {
  "kernelspec": {
   "display_name": "Python 3 (ipykernel)",
   "language": "python",
   "name": "python3"
  },
  "language_info": {
   "codemirror_mode": {
    "name": "ipython",
    "version": 3
   },
   "file_extension": ".py",
   "mimetype": "text/x-python",
   "name": "python",
   "nbconvert_exporter": "python",
   "pygments_lexer": "ipython3",
   "version": "3.12.7"
  }
 },
 "nbformat": 4,
 "nbformat_minor": 4
}
