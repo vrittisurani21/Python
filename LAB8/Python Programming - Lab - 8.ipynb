{
 "cells": [
  {
   "cell_type": "markdown",
   "metadata": {},
   "source": [
    "<a href='https://www.darshan.ac.in/'> <img src='https://www.darshan.ac.in/Content/media/DU_Logo.svg' width=\"250\" height=\"300\"/></a>\n",
    "<pre>\n",
    "<center><b><h1>Python Programming - 2301CS404</b></center>\n",
    "<center><b><h1>Lab - 8</b></center>    \n",
    "<pre>"
   ]
  },
  {
   "cell_type": "markdown",
   "metadata": {},
   "source": [
    "# User Defined Function"
   ]
  },
  {
   "cell_type": "markdown",
   "metadata": {},
   "source": [
    "### 01) Write a function to calculate BMI given mass and height. (BMI = mass/h**2)"
   ]
  },
  {
   "cell_type": "code",
   "execution_count": 1,
   "metadata": {},
   "outputs": [
    {
     "name": "stdout",
     "output_type": "stream",
     "text": [
      "BMI: 22.86\n"
     ]
    }
   ],
   "source": [
    "def calculate_bmi(mass, height):\n",
    "    return mass / (height ** 2)\n",
    "\n",
    "mass = 70\n",
    "height = 1.75 \n",
    "bmi = calculate_bmi(mass, height)\n",
    "print(f\"BMI: {bmi:.2f}\")"
   ]
  },
  {
   "cell_type": "markdown",
   "metadata": {},
   "source": [
    "### 02) Write a function that add first n numbers."
   ]
  },
  {
   "cell_type": "code",
   "execution_count": 2,
   "metadata": {},
   "outputs": [
    {
     "name": "stdout",
     "output_type": "stream",
     "text": [
      "Sum of the first 10 numbers: 55\n"
     ]
    }
   ],
   "source": [
    "def add_first_n_numbers(n):\n",
    "    return sum(range(1, n + 1))\n",
    "\n",
    "n = 10\n",
    "result = add_first_n_numbers(n)\n",
    "print(f\"Sum of the first {n} numbers: {result}\")"
   ]
  },
  {
   "cell_type": "markdown",
   "metadata": {},
   "source": [
    "### 03) Write a function that returns 1 if the given number is Prime or 0 otherwise."
   ]
  },
  {
   "cell_type": "code",
   "execution_count": 5,
   "metadata": {},
   "outputs": [
    {
     "name": "stdin",
     "output_type": "stream",
     "text": [
      "Enter a number:  2\n"
     ]
    },
    {
     "name": "stdout",
     "output_type": "stream",
     "text": [
      "{'1'}\n"
     ]
    }
   ],
   "source": [
    "def is_prime(number):\n",
    "    if number <= 1:\n",
    "        return 0\n",
    "    for i in range(2, int(number ** 0.5) + 1):\n",
    "        if number % i == 0:\n",
    "            return 0\n",
    "    return 1\n",
    "\n",
    "number = int(input(\"Enter a number: \"))\n",
    "result = is_prime(number)\n",
    "print({'1' if result == 1 else '0'})\n"
   ]
  },
  {
   "cell_type": "markdown",
   "metadata": {},
   "source": [
    "### 04) Write a function that returns the list of Prime numbers between given two numbers."
   ]
  },
  {
   "cell_type": "code",
   "execution_count": 6,
   "metadata": {},
   "outputs": [
    {
     "name": "stdin",
     "output_type": "stream",
     "text": [
      "Enter the starting number:  0\n",
      "Enter the ending number:  10\n"
     ]
    },
    {
     "name": "stdout",
     "output_type": "stream",
     "text": [
      "Prime numbers between 0 and 10: [2, 3, 5, 7]\n"
     ]
    }
   ],
   "source": [
    "def list_primes(start, end):\n",
    "    return [num for num in range(start, end + 1) \n",
    "            if num > 1 and \n",
    "            all(num % i != 0 for i in range(2, int(num ** 0.5) + 1))\n",
    "           ]\n",
    "\n",
    "start = int(input(\"Enter the starting number: \"))\n",
    "end = int(input(\"Enter the ending number: \"))\n",
    "prime_list = list_primes(start, end)\n",
    "print(f\"Prime numbers between {start} and {end}: {prime_list}\")\n"
   ]
  },
  {
   "cell_type": "markdown",
   "metadata": {},
   "source": [
    "### 05) Write a function that returns True if the given string is Palindrome or False otherwise."
   ]
  },
  {
   "cell_type": "code",
   "execution_count": 8,
   "metadata": {},
   "outputs": [
    {
     "name": "stdin",
     "output_type": "stream",
     "text": [
      "Enter a string:  252\n"
     ]
    },
    {
     "name": "stdout",
     "output_type": "stream",
     "text": [
      "{'True'}\n"
     ]
    }
   ],
   "source": [
    "def is_palindrome(s):\n",
    "    return s == s[::-1]\n",
    "    \n",
    "string = input(\"Enter a string: \")\n",
    "result = is_palindrome(string)\n",
    "print({'True' if result else 'False'})\n"
   ]
  },
  {
   "cell_type": "markdown",
   "metadata": {},
   "source": [
    "### 06) Write a function that returns the sum of all the elements of the list."
   ]
  },
  {
   "cell_type": "code",
   "execution_count": 9,
   "metadata": {},
   "outputs": [
    {
     "name": "stdin",
     "output_type": "stream",
     "text": [
      "Enter the list of numbers separated by spaces:  5 10 15 20 25 30 35 40 45 50\n"
     ]
    },
    {
     "name": "stdout",
     "output_type": "stream",
     "text": [
      "Sum of the elements in the list: 275\n"
     ]
    }
   ],
   "source": [
    "def sum_of_list(lst):\n",
    "    return sum(lst)\n",
    "\n",
    "lst = list(map(int, input(\"Enter the list of numbers separated by spaces: \").split()))\n",
    "result = sum_of_list(lst)\n",
    "print(f\"Sum of the elements in the list: {result}\")\n"
   ]
  },
  {
   "cell_type": "markdown",
   "metadata": {},
   "source": [
    "### 07) Write a function to calculate the sum of the first element of each tuples inside the list."
   ]
  },
  {
   "cell_type": "code",
   "execution_count": 1,
   "metadata": {},
   "outputs": [
    {
     "name": "stdin",
     "output_type": "stream",
     "text": [
      "Enter the number of tuples:  2\n",
      "Enter a tuple (separated by spaces):  2 5 6 \n",
      "Enter a tuple (separated by spaces):  3 2 5 \n"
     ]
    },
    {
     "name": "stdout",
     "output_type": "stream",
     "text": [
      "Sum of the first elements of each tuple: 5\n"
     ]
    }
   ],
   "source": [
    "def sum_first_elements(tuples_list):\n",
    "    return sum(t[0] for t in tuples_list)\n",
    "\n",
    "tuples_list = [tuple(map(int, input(\"Enter a tuple (separated by spaces): \").split())) for _ in range(int(input(\"Enter the number of tuples: \")))]\n",
    "result = sum_first_elements(tuples_list)\n",
    "print(f\"Sum of the first elements of each tuple: {result}\")\n"
   ]
  },
  {
   "cell_type": "markdown",
   "metadata": {},
   "source": [
    "### 08) Write a recursive function to find nth term of Fibonacci Series."
   ]
  },
  {
   "cell_type": "code",
   "execution_count": 14,
   "metadata": {},
   "outputs": [
    {
     "name": "stdin",
     "output_type": "stream",
     "text": [
      "Enter the term number:  3\n"
     ]
    },
    {
     "name": "stdout",
     "output_type": "stream",
     "text": [
      "The term 3 of the Fibonacci series is: 1\n"
     ]
    }
   ],
   "source": [
    "def fibonacci(n):\n",
    "    if n <= 0:\n",
    "        return \"Input should be a positive integer.\"\n",
    "    if n in {1, 2}:\n",
    "        return n - 1\n",
    "    return fibonacci(n - 1) + fibonacci(n - 2)\n",
    "\n",
    "n = int(input(\"Enter the term number: \"))\n",
    "result = fibonacci(n)\n",
    "print(f\"The term {n} of the Fibonacci series is: {result}\")\n"
   ]
  },
  {
   "cell_type": "markdown",
   "metadata": {},
   "source": [
    "### 09) Write a function to get the name of the student based on the given rollno.\n",
    "#### Example: Given dict1 = {101:'Ajay', 102:'Rahul', 103:'Jay', 104:'Pooja'} find name of student whose rollno = 103"
   ]
  },
  {
   "cell_type": "code",
   "execution_count": 17,
   "metadata": {},
   "outputs": [
    {
     "name": "stdin",
     "output_type": "stream",
     "text": [
      "Enter the roll number:  102\n"
     ]
    },
    {
     "name": "stdout",
     "output_type": "stream",
     "text": [
      "Name of the student with roll number 102: Drashti\n"
     ]
    }
   ],
   "source": [
    "def get_student_name(rollno, students_dict):\n",
    "    return students_dict.get(rollno, \"Roll number not found\")\n",
    "\n",
    "dict1 = {101: 'Vritti', 102: 'Drashti', 103: 'Rajvi', 104: 'Pooja'}\n",
    "n = int(input(\"Enter the roll number: \"))\n",
    "student_name = get_student_name(n, dict1)\n",
    "print(f\"Name of the student with roll number {n}: {student_name}\")\n"
   ]
  },
  {
   "cell_type": "markdown",
   "metadata": {},
   "source": [
    "### 10) Write a function to get the sum of the scores ending with zero.\n",
    "#### Example : scores = [200, 456, 300, 100, 234, 678] \n",
    "#### Ans = 200 + 300 + 100 = 600"
   ]
  },
  {
   "cell_type": "code",
   "execution_count": 18,
   "metadata": {},
   "outputs": [
    {
     "name": "stdout",
     "output_type": "stream",
     "text": [
      "Sum of the scores ending with zero: 600\n"
     ]
    }
   ],
   "source": [
    "def sum_scores_ending_with_zero(scores):\n",
    "    return sum(score for score in scores if score % 10 == 0)\n",
    "\n",
    "scores = [200, 456, 300, 100, 234, 678]\n",
    "result = sum_scores_ending_with_zero(scores)\n",
    "print(f\"Sum of the scores ending with zero: {result}\")\n"
   ]
  },
  {
   "cell_type": "markdown",
   "metadata": {},
   "source": [
    "### 11) Write a function to invert a given Dictionary.\n",
    "#### hint: keys to values & values to keys\n",
    "#### Before : {'a': 10, 'b':20, 'c':30, 'd':40}\n",
    "#### After : {10:'a', 20:'b', 30:'c', 40:'d'}"
   ]
  },
  {
   "cell_type": "code",
   "execution_count": 19,
   "metadata": {},
   "outputs": [
    {
     "name": "stdout",
     "output_type": "stream",
     "text": [
      "Inverted Dictionary: {10: 'a', 20: 'b', 30: 'c', 40: 'd'}\n"
     ]
    }
   ],
   "source": [
    "def invert_dict(d):\n",
    "    return {v: k for k, v in d.items()}\n",
    "\n",
    "\n",
    "original_dict = {'a': 10, 'b': 20, 'c': 30, 'd': 40}\n",
    "inverted_dict = invert_dict(original_dict)\n",
    "print(f\"Inverted Dictionary: {inverted_dict}\")"
   ]
  },
  {
   "cell_type": "markdown",
   "metadata": {},
   "source": [
    "### 12) Write a function to check whether the given string is Pangram or not.\n",
    "#### hint: Pangram is a string containing all the characters a-z atlest once.\n",
    "#### \"the quick brown fox jumps over the lazy dog\" is a Pangram string."
   ]
  },
  {
   "cell_type": "code",
   "execution_count": 20,
   "metadata": {},
   "outputs": [
    {
     "name": "stdout",
     "output_type": "stream",
     "text": [
      "Is pangram: True\n"
     ]
    }
   ],
   "source": [
    "def is_pangram(string):\n",
    "    alphabet_set = set('abcdefghijklmnopqrstuvwxyz')\n",
    "    return alphabet_set <= set(string.lower())\n",
    "\n",
    "\n",
    "string = \"The quick brown fox jumps over the lazy dog\"\n",
    "is_pangram_result = is_pangram(string)\n",
    "print(f\"Is pangram: {is_pangram_result}\")"
   ]
  },
  {
   "cell_type": "markdown",
   "metadata": {},
   "source": [
    "### 13) Write a function that returns the number of uppercase and lowercase letters in the given string. \n",
    "#### example : Input : s1 = AbcDEfgh ,Ouptput : no_upper = 3, no_lower = 5"
   ]
  },
  {
   "cell_type": "code",
   "execution_count": 22,
   "metadata": {},
   "outputs": [
    {
     "name": "stdout",
     "output_type": "stream",
     "text": [
      "Number of uppercase letters: 3, Number of lowercase letters: 5\n"
     ]
    }
   ],
   "source": [
    "def count_upper_lower(s):\n",
    "    upper_count = sum(1 for char in s if char.isupper())\n",
    "    lower_count = sum(1 for char in s if char.islower())\n",
    "    return upper_count, lower_count\n",
    "\n",
    "s1 = \"AbcDEfgh\"\n",
    "num_upper, num_lower = count_upper_lower(s1)\n",
    "print(f\"Number of uppercase letters: {num_upper}, Number of lowercase letters: {num_lower}\")"
   ]
  },
  {
   "cell_type": "markdown",
   "metadata": {},
   "source": [
    "### 14) Write a lambda function to get smallest number from the given two numbers."
   ]
  },
  {
   "cell_type": "code",
   "execution_count": 23,
   "metadata": {},
   "outputs": [
    {
     "name": "stdout",
     "output_type": "stream",
     "text": [
      "Smallest number: 10\n"
     ]
    }
   ],
   "source": [
    "smallest = lambda a, b: a if a < b else b\n",
    "\n",
    "num1 = 10\n",
    "num2 = 20\n",
    "smallest_number = smallest(num1, num2)\n",
    "print(f\"Smallest number: {smallest_number}\")"
   ]
  },
  {
   "cell_type": "markdown",
   "metadata": {},
   "source": [
    "### 15) For the given list of names of students, extract the names having more that 7 characters. Use filter()."
   ]
  },
  {
   "cell_type": "code",
   "execution_count": 24,
   "metadata": {},
   "outputs": [
    {
     "name": "stdout",
     "output_type": "stream",
     "text": [
      "Names with more than 7 characters: ['Dharashvi']\n"
     ]
    }
   ],
   "source": [
    "names = [\"Vritti\", \"Rajvi\", \"Dharashvi\", \"Disha\", \"Drashti\", \"Priya\"]\n",
    "\n",
    "long_names = list(filter(lambda name: len(name) > 7, names))\n",
    "print(f\"Names with more than 7 characters: {long_names}\")"
   ]
  },
  {
   "cell_type": "markdown",
   "metadata": {},
   "source": [
    "### 16) For the given list of names of students, convert the first letter of all the names into uppercase. use map()."
   ]
  },
  {
   "cell_type": "code",
   "execution_count": null,
   "metadata": {},
   "outputs": [],
   "source": [
    "names = [\"vritti\", \"rajvi\", \"dharashvi\", \"disha\", \"drashti\", \"priya\"]\n",
    "\n",
    "capitalized_names = list(map(lambda name: name.capitalize(), names))\n",
    "print(f\"Names with first letter capitalized: {capitalized_names}\")"
   ]
  },
  {
   "cell_type": "markdown",
   "metadata": {},
   "source": [
    "### 17) Write udfs to call the functions with following types of arguments:\n",
    "1. Positional Arguments\n",
    "2. Keyword Arguments\n",
    "3. Default Arguments\n",
    "4. Variable Legngth Positional(*args) & variable length Keyword Arguments (**kwargs)\n",
    "5. Keyword-Only & Positional Only Arguments"
   ]
  },
  {
   "cell_type": "code",
   "execution_count": 25,
   "metadata": {},
   "outputs": [
    {
     "name": "stdout",
     "output_type": "stream",
     "text": [
      "7\n",
      "7\n",
      "10\n",
      "15\n",
      "{'name': 'vritti', 'age': 19}\n",
      "5.0\n",
      "8\n"
     ]
    }
   ],
   "source": [
    "# Positional Arguments\n",
    "def positional_args(a, b):\n",
    "    return a + b\n",
    "\n",
    "# Keyword Arguments\n",
    "def keyword_args(a, b):\n",
    "    return a - b\n",
    "\n",
    "# Default Arguments\n",
    "def default_args(a, b=5):\n",
    "    return a * b\n",
    "\n",
    "# Variable Length Positional (*args)\n",
    "def var_positional_args(*args):\n",
    "    return sum(args)\n",
    "\n",
    "# Variable Length Keyword Arguments (**kwargs)\n",
    "def var_keyword_args(**kwargs):\n",
    "    return kwargs\n",
    "\n",
    "# Keyword-Only Arguments\n",
    "def keyword_only_args(*, a, b):\n",
    "    return a / b\n",
    "\n",
    "# Positional-Only Arguments (using Python 3.8+)\n",
    "def positional_only_args(a, /, b):\n",
    "    return a ** b\n",
    "\n",
    "print(positional_args(3, 4))                  \n",
    "print(keyword_args(a=10, b=3))                  \n",
    "print(default_args(2))                        \n",
    "print(var_positional_args(1, 2, 3, 4, 5))       \n",
    "print(var_keyword_args(name=\"vritti\", age=19))   \n",
    "print(keyword_only_args(a=10, b=2))             \n",
    "print(positional_only_args(2, 3))"
   ]
  }
 ],
 "metadata": {
  "kernelspec": {
   "display_name": "Python 3 (ipykernel)",
   "language": "python",
   "name": "python3"
  },
  "language_info": {
   "codemirror_mode": {
    "name": "ipython",
    "version": 3
   },
   "file_extension": ".py",
   "mimetype": "text/x-python",
   "name": "python",
   "nbconvert_exporter": "python",
   "pygments_lexer": "ipython3",
   "version": "3.12.7"
  }
 },
 "nbformat": 4,
 "nbformat_minor": 4
}
