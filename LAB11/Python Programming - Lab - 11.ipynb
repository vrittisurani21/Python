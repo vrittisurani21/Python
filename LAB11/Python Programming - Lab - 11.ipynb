{
 "cells": [
  {
   "attachments": {},
   "cell_type": "markdown",
   "metadata": {},
   "source": [
    "<a href='https://www.darshan.ac.in/'> <img src='https://www.darshan.ac.in/Content/media/DU_Logo.svg' width=\"250\" height=\"300\"/></a>\n",
    "<pre>\n",
    "<center><b><h1>Python Programming - 2301CS404</b>\n",
    "<h4>23010101261-Vritti Surani-427</h4></center>\n",
    "<center><b><h1>Lab - 11</b></center>    \n",
    "<pre>"
   ]
  },
  {
   "cell_type": "markdown",
   "metadata": {},
   "source": [
    "# Modules"
   ]
  },
  {
   "cell_type": "markdown",
   "metadata": {},
   "source": [
    "### 01) WAP to create Calculator module which defines functions like add, sub,mul and div. \n",
    "### Create another .py file that uses the functions available in Calculator module."
   ]
  },
  {
   "cell_type": "code",
   "execution_count": 3,
   "metadata": {},
   "outputs": [
    {
     "name": "stdout",
     "output_type": "stream",
     "text": [
      "Addition: 15\n",
      "Subtraction: 5\n",
      "Multiplication: 50\n",
      "Division: 2.0\n"
     ]
    }
   ],
   "source": [
    "import calculator\n",
    "num1 = 10\n",
    "num2 = 5\n",
    "\n",
    "print(\"Addition:\", calculator.add(num1, num2))\n",
    "print(\"Subtraction:\", calculator.sub(num1, num2))\n",
    "print(\"Multiplication:\", calculator.mul(num1, num2))\n",
    "print(\"Division:\", calculator.div(num1, num2))\n"
   ]
  },
  {
   "cell_type": "markdown",
   "metadata": {},
   "source": [
    "### 02) WAP to pick a random character from a given String."
   ]
  },
  {
   "cell_type": "code",
   "execution_count": 6,
   "metadata": {},
   "outputs": [
    {
     "name": "stdout",
     "output_type": "stream",
     "text": [
      "o\n"
     ]
    }
   ],
   "source": [
    "import random\n",
    "\n",
    "def random_char(string):\n",
    "    return random.choice(string)\n",
    "\n",
    "string = \"Hello, World!\"\n",
    "print(random_char(string))\n"
   ]
  },
  {
   "cell_type": "markdown",
   "metadata": {},
   "source": [
    "### 03) WAP to pick a random element from a given list."
   ]
  },
  {
   "cell_type": "code",
   "execution_count": 8,
   "metadata": {},
   "outputs": [
    {
     "name": "stdout",
     "output_type": "stream",
     "text": [
      "3\n"
     ]
    }
   ],
   "source": [
    "import random\n",
    "\n",
    "def random_element(lst):\n",
    "    return random.choice(lst)\n",
    "\n",
    "lst = [1, 2, 3, 4, 5]\n",
    "print(random_element(lst))\n"
   ]
  },
  {
   "cell_type": "markdown",
   "metadata": {},
   "source": [
    "### 04) WAP to roll a dice in such a way that every time you get the same number."
   ]
  },
  {
   "cell_type": "code",
   "execution_count": 10,
   "metadata": {},
   "outputs": [
    {
     "name": "stdout",
     "output_type": "stream",
     "text": [
      "6\n"
     ]
    }
   ],
   "source": [
    "def roll_dice():\n",
    "    return 6  \n",
    "\n",
    "print(roll_dice())\n"
   ]
  },
  {
   "cell_type": "markdown",
   "metadata": {},
   "source": [
    "### 05) WAP to generate 3 random integers between 100 and 999 which is divisible by 5."
   ]
  },
  {
   "cell_type": "code",
   "execution_count": 12,
   "metadata": {},
   "outputs": [
    {
     "name": "stdout",
     "output_type": "stream",
     "text": [
      "[935, 595, 795]\n"
     ]
    }
   ],
   "source": [
    "import random\n",
    "\n",
    "def random_integers():\n",
    "    result = []\n",
    "    while len(result) < 3:\n",
    "        num = random.randint(100, 999)\n",
    "        if num % 5 == 0:\n",
    "            result.append(num)\n",
    "    return result\n",
    "\n",
    "print(random_integers())\n"
   ]
  },
  {
   "cell_type": "markdown",
   "metadata": {},
   "source": [
    "### 06) WAP to generate 100 random lottery tickets and pick two lucky tickets from it and announce them as Winner and Runner up respectively."
   ]
  },
  {
   "cell_type": "code",
   "execution_count": 14,
   "metadata": {},
   "outputs": [
    {
     "name": "stdout",
     "output_type": "stream",
     "text": [
      "Winner Ticket: 755710\n",
      "Runner-up Ticket: 186149\n"
     ]
    }
   ],
   "source": [
    "import random\n",
    "\n",
    "def lottery_tickets(num_tickets):\n",
    "    return [random.randint(100000, 999999) for _ in range(num_tickets)]\n",
    "\n",
    "def pick_tickets(tickets):\n",
    "    winner = random.choice(tickets)\n",
    "    tickets.remove(winner)\n",
    "    runner_up = random.choice(tickets)\n",
    "    return winner, runner_up\n",
    "\n",
    "tickets = lottery_tickets(100)\n",
    "winner, runner_up = pick_tickets(tickets)\n",
    "print(f\"Winner Ticket: {winner}\")\n",
    "print(f\"Runner-up Ticket: {runner_up}\")\n"
   ]
  },
  {
   "cell_type": "markdown",
   "metadata": {},
   "source": [
    "### 07) WAP to print current date and time in Python."
   ]
  },
  {
   "cell_type": "code",
   "execution_count": 16,
   "metadata": {},
   "outputs": [
    {
     "name": "stdout",
     "output_type": "stream",
     "text": [
      "Current Date and Time: 2025-02-21 10:13:29.676250\n"
     ]
    }
   ],
   "source": [
    "from datetime import datetime\n",
    "\n",
    "current_datetime = datetime.now()\n",
    "\n",
    "print(\"Current Date and Time:\", current_datetime)\n"
   ]
  },
  {
   "cell_type": "markdown",
   "metadata": {},
   "source": [
    "### 08) Subtract a week (7 days) from a given date in Python."
   ]
  },
  {
   "cell_type": "code",
   "execution_count": 3,
   "metadata": {},
   "outputs": [
    {
     "name": "stdout",
     "output_type": "stream",
     "text": [
      "New Date: 2025-02-07\n"
     ]
    }
   ],
   "source": [
    "from datetime import datetime, timedelta\n",
    "\n",
    "date_string = \"2025-02-14\"\n",
    "date_format = \"%Y-%m-%d\"\n",
    "given_date = datetime.strptime(date_string, date_format)\n",
    "\n",
    "new_date = given_date - timedelta(days=7)\n",
    "print(\"New Date:\", new_date.strftime(date_format))\n"
   ]
  },
  {
   "cell_type": "markdown",
   "metadata": {},
   "source": [
    "### 09) WAP to Calculate number of days between two given dates."
   ]
  },
  {
   "cell_type": "code",
   "execution_count": 7,
   "metadata": {},
   "outputs": [
    {
     "name": "stdout",
     "output_type": "stream",
     "text": [
      "Number of days between the two dates: 10\n"
     ]
    }
   ],
   "source": [
    "from datetime import datetime\n",
    "\n",
    "date1_string = \"2025-02-4\"\n",
    "date2_string = \"2025-02-14\"\n",
    "date_format = \"%Y-%m-%d\"\n",
    "\n",
    "date1 = datetime.strptime(date1_string, date_format)\n",
    "date2 = datetime.strptime(date2_string, date_format)\n",
    "\n",
    "difference = date2 - date1\n",
    "print(\"Number of days between the two dates:\", difference.days)\n"
   ]
  },
  {
   "cell_type": "markdown",
   "metadata": {},
   "source": [
    "### 10) WAP to Find the day of the week of a given date.(i.e. wether it is sunday/monday/tuesday/etc.)"
   ]
  },
  {
   "cell_type": "code",
   "execution_count": 9,
   "metadata": {},
   "outputs": [
    {
     "name": "stdout",
     "output_type": "stream",
     "text": [
      "Day of the week: Saturday\n"
     ]
    }
   ],
   "source": [
    "from datetime import datetime\n",
    "\n",
    "date_string = \"2025-02-15\"\n",
    "date_format = \"%Y-%m-%d\"\n",
    "given_date = datetime.strptime(date_string, date_format)\n",
    "\n",
    "day_of_week = given_date.strftime(\"%A\")\n",
    "print(\"Day of the week:\", day_of_week)\n"
   ]
  },
  {
   "cell_type": "markdown",
   "metadata": {},
   "source": [
    "### 11) WAP to demonstrate the use of date time module."
   ]
  },
  {
   "cell_type": "code",
   "execution_count": 18,
   "metadata": {},
   "outputs": [
    {
     "name": "stdout",
     "output_type": "stream",
     "text": [
      "Current Date and Time: 2025-02-21 10:15:45.390048\n",
      "Specific Date and Time: 2025-02-21 10:30:00\n",
      "Difference between two dates: 51 days\n",
      "Date after adding 10 days: 2025-03-03 10:15:45.390048\n"
     ]
    }
   ],
   "source": [
    "from datetime import datetime, timedelta\n",
    "\n",
    "current_datetime = datetime.now()\n",
    "print(\"Current Date and Time:\", current_datetime)\n",
    "\n",
    "specific_datetime = datetime(2025, 2, 21, 10, 30)\n",
    "print(\"Specific Date and Time:\", specific_datetime)\n",
    "\n",
    "date1 = datetime(2025, 1, 1)\n",
    "date2 = datetime(2025, 2, 21)\n",
    "difference = date2 - date1\n",
    "print(\"Difference between two dates:\", difference.days, \"days\")\n",
    "\n",
    "new_date = current_datetime + timedelta(days=10)\n",
    "print(\"Date after adding 10 days:\", new_date)\n"
   ]
  },
  {
   "cell_type": "markdown",
   "metadata": {},
   "source": [
    "### 12) WAP to demonstrate the use of the math module."
   ]
  },
  {
   "cell_type": "code",
   "execution_count": 20,
   "metadata": {},
   "outputs": [
    {
     "name": "stdout",
     "output_type": "stream",
     "text": [
      "Square root of 16 is 4.0\n",
      "Factorial of 5 is 120\n",
      "Value of pi is 3.141592653589793\n",
      "sin(45 degrees) is 0.7071067811865476\n",
      "cos(45 degrees) is 0.7071067811865476\n"
     ]
    }
   ],
   "source": [
    "import math\n",
    "\n",
    "number = 16\n",
    "sqrt = math.sqrt(number)\n",
    "print(f\"Square root of {number} is {sqrt}\")\n",
    "\n",
    "number = 5\n",
    "factorial = math.factorial(number)\n",
    "print(f\"Factorial of {number} is {factorial}\")\n",
    "\n",
    "pi_value = math.pi\n",
    "print(f\"Value of pi is {pi_value}\")\n",
    "\n",
    "angle = math.radians(45)  \n",
    "sin_value = math.sin(angle)\n",
    "cos_value = math.cos(angle)\n",
    "print(f\"sin(45 degrees) is {sin_value}\")\n",
    "print(f\"cos(45 degrees) is {cos_value}\")\n"
   ]
  },
  {
   "cell_type": "code",
   "execution_count": null,
   "metadata": {},
   "outputs": [],
   "source": []
  }
 ],
 "metadata": {
  "kernelspec": {
   "display_name": "Python 3 (ipykernel)",
   "language": "python",
   "name": "python3"
  },
  "language_info": {
   "codemirror_mode": {
    "name": "ipython",
    "version": 3
   },
   "file_extension": ".py",
   "mimetype": "text/x-python",
   "name": "python",
   "nbconvert_exporter": "python",
   "pygments_lexer": "ipython3",
   "version": "3.12.7"
  }
 },
 "nbformat": 4,
 "nbformat_minor": 4
}
