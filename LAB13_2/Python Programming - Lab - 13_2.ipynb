{
 "cells": [
  {
   "cell_type": "markdown",
   "metadata": {},
   "source": [
    "<a href='https://www.darshan.ac.in/'> <img src='https://www.darshan.ac.in/Content/media/DU_Logo.svg' width=\"250\" height=\"300\"/></a>\n",
    "<pre>\n",
    "<center><b><h1>Python Programming - 2301CS404</b>\n",
    "<h4>23010101261-Vritti Surani-427</h4></center>\n",
    "<center><b><h1>Lab - 13</b></center>    \n",
    "<pre>"
   ]
  },
  {
   "cell_type": "markdown",
   "metadata": {},
   "source": [
    "## Continued.."
   ]
  },
  {
   "cell_type": "markdown",
   "metadata": {},
   "source": [
    "### 10) Calculate area of a ractangle using object as an argument to a method."
   ]
  },
  {
   "cell_type": "code",
   "execution_count": 11,
   "metadata": {},
   "outputs": [
    {
     "name": "stdout",
     "output_type": "stream",
     "text": [
      "Area of the rectangle: 50\n"
     ]
    }
   ],
   "source": [
    "class Rectangle:\n",
    "    def __init__(self, length, width):\n",
    "        self.length = length\n",
    "        self.width = width\n",
    "    def calculate_area(self):\n",
    "        return self.length * self.width\n",
    "\n",
    "a1 = Rectangle(10, 5)\n",
    "\n",
    "\n",
    "print(f\"Area of the rectangle: {a1.calculate_area()}\")"
   ]
  },
  {
   "cell_type": "markdown",
   "metadata": {},
   "source": [
    "### 11) Calculate the area of a square. \n",
    "### Include a Constructor, a method to calculate area named area() and a method named output() that prints the output and is invoked by area()."
   ]
  },
  {
   "cell_type": "code",
   "execution_count": 12,
   "metadata": {},
   "outputs": [
    {
     "name": "stdout",
     "output_type": "stream",
     "text": [
      "Result is : 25\n"
     ]
    }
   ],
   "source": [
    "class Square:\n",
    "    def __init__(self, side):\n",
    "        self.side = side\n",
    "    def area(self):\n",
    "        result = self.side*self.side\n",
    "        self.output(result)\n",
    "    def output(self,result):\n",
    "        print(\"Result is :\",result)\n",
    "a2 = Square(5)\n",
    "a2.area()"
   ]
  },
  {
   "cell_type": "markdown",
   "metadata": {},
   "source": [
    "### 12) Calculate the area of a rectangle. \n",
    "### Include a Constructor, a method to calculate area named area() and a method named output() that prints the output and is invoked by area().\n",
    "### Also define a class method that compares the two sides of reactangle. An object is instantiated only if the two sides are different; otherwise a message should be displayed : THIS IS SQUARE."
   ]
  },
  {
   "cell_type": "code",
   "execution_count": 18,
   "metadata": {},
   "outputs": [
    {
     "name": "stdout",
     "output_type": "stream",
     "text": [
      "The area of the rectangle with length is: 50\n",
      "THIS IS SQUARE\n"
     ]
    }
   ],
   "source": [
    "class Rectangle:\n",
    "    def __init__(self, length, width):\n",
    "        if length == width:\n",
    "            print(\"THIS IS SQUARE\")\n",
    "        else:\n",
    "            self.length = length\n",
    "            self.width = width\n",
    "    \n",
    "    def area(self):\n",
    "        result = self.length * self.width\n",
    "        self.output(result)\n",
    "    \n",
    "    def output(self, result):\n",
    "        print(\"The area of the rectangle with length is:\", result)\n",
    "    \n",
    "    @classmethod\n",
    "    def compare_sides(self, length, width):\n",
    "        return \"Equal\" if length == width else \"Not Equal\"\n",
    "\n",
    "rectangle = Rectangle(5, 10)\n",
    "rectangle.area()\n",
    "\n",
    "square_attempt = Rectangle(5, 5)\n"
   ]
  },
  {
   "cell_type": "markdown",
   "metadata": {},
   "source": [
    "### 13) Define a class Square having a private attribute \"side\". \n",
    "### Implement get_side and set_side methods to accees the private attribute from outside of the class."
   ]
  },
  {
   "cell_type": "code",
   "execution_count": 20,
   "metadata": {},
   "outputs": [
    {
     "data": {
      "text/plain": [
       "5"
      ]
     },
     "execution_count": 20,
     "metadata": {},
     "output_type": "execute_result"
    }
   ],
   "source": [
    "class Area:\n",
    "    def __init__(self,a):\n",
    "        self.__a = a\n",
    "    def get_a(self):\n",
    "        return self.__a\n",
    "    def get_area(self):\n",
    "        return self.__a*self.__a\n",
    "a2 = Area(5)\n",
    "a2.get_a()\n",
    "# a2.get_area()"
   ]
  },
  {
   "cell_type": "markdown",
   "metadata": {},
   "source": [
    "### 14) Create a class Profit that has a method named getProfit that accepts profit from the user.\n",
    "### Create a class Loss that has a method named getLoss that accepts loss from the user.\n",
    "### Create a class BalanceSheet that inherits from both classes Profit and Loss and calculates the balanace. It has two methods getBalance() and printBalance()."
   ]
  },
  {
   "cell_type": "code",
   "execution_count": 22,
   "metadata": {},
   "outputs": [
    {
     "name": "stdin",
     "output_type": "stream",
     "text": [
      "Enter profit:  234\n",
      "Enter loss:  12\n"
     ]
    },
    {
     "name": "stdout",
     "output_type": "stream",
     "text": [
      "The balance is: 222.0\n"
     ]
    }
   ],
   "source": [
    "class Profit:\n",
    "    def __init__(self):\n",
    "        self.profit = 0\n",
    "    \n",
    "    def getProfit(self):\n",
    "        self.profit = float(input(\"Enter profit: \"))\n",
    "\n",
    "class Loss:\n",
    "    def __init__(self):\n",
    "        self.loss = 0\n",
    "    \n",
    "    def getLoss(self):\n",
    "        self.loss = float(input(\"Enter loss: \"))\n",
    "\n",
    "class BalanceSheet(Profit, Loss):\n",
    "    def __init__(self):\n",
    "        Profit.__init__(self)\n",
    "        Loss.__init__(self)\n",
    "    \n",
    "    def getBalance(self):\n",
    "        return self.profit - self.loss\n",
    "    \n",
    "    def printBalance(self):\n",
    "        balance = self.getBalance()\n",
    "        print(f\"The balance is: {balance}\")\n",
    "\n",
    "balance_sheet = BalanceSheet()\n",
    "balance_sheet.getProfit()\n",
    "balance_sheet.getLoss()\n",
    "balance_sheet.printBalance()\n"
   ]
  },
  {
   "attachments": {},
   "cell_type": "markdown",
   "metadata": {},
   "source": [
    "### 15) WAP to demonstrate all types of inheritance."
   ]
  },
  {
   "cell_type": "code",
   "execution_count": 2,
   "metadata": {},
   "outputs": [
    {
     "name": "stdout",
     "output_type": "stream",
     "text": [
      "Single Inheritance:\n",
      "This is a Parent class\n",
      "\n",
      "Multiple Inheritance:\n"
     ]
    },
    {
     "name": "stdin",
     "output_type": "stream",
     "text": [
      "Enter profit:  23989\n",
      "Enter loss:  1234\n"
     ]
    },
    {
     "name": "stdout",
     "output_type": "stream",
     "text": [
      "The balance is: 22755.0\n",
      "\n",
      "Multilevel Inheritance:\n",
      "This is Grandparent class\n",
      "This is Parent class\n",
      "This is Child class\n",
      "\n",
      "Hierarchical Inheritance:\n",
      "This is Base class\n",
      "This is Derived1 class\n",
      "This is Base class\n",
      "This is Derived2 class\n",
      "\n",
      "Hybrid Inheritance:\n",
      "This is class A\n",
      "This is class B\n",
      "This is class C\n",
      "This is class D\n"
     ]
    }
   ],
   "source": [
    "# Single Inheritance\n",
    "class Parent:\n",
    "    def show(self):\n",
    "        print(\"This is a Parent class\")\n",
    "\n",
    "class Child(Parent):\n",
    "    pass\n",
    "\n",
    "# Multiple Inheritance\n",
    "class Profit:\n",
    "    def __init__(self):\n",
    "        self.profit = 0.0\n",
    "    \n",
    "    def getProfit(self):\n",
    "        while True:\n",
    "            try:\n",
    "                self.profit = float(input(\"Enter profit: \"))\n",
    "                break\n",
    "            except ValueError:\n",
    "                print(\"Invalid input! Please enter a numeric value.\")\n",
    "\n",
    "class Loss:\n",
    "    def __init__(self):\n",
    "        self.loss = 0.0\n",
    "    \n",
    "    def getLoss(self):\n",
    "        while True:\n",
    "            try:\n",
    "                self.loss = float(input(\"Enter loss: \"))\n",
    "                break\n",
    "            except ValueError:\n",
    "                print(\"Invalid input! Please enter a numeric value.\")\n",
    "\n",
    "class BalanceSheet(Profit, Loss):\n",
    "    def __init__(self):\n",
    "        super().__init__()  # Call the constructors of Profit and Loss\n",
    "    \n",
    "    def getBalance(self):\n",
    "        return self.profit - self.loss\n",
    "    \n",
    "    def printBalance(self):\n",
    "        balance = self.getBalance()\n",
    "        print(f\"The balance is: {balance}\")\n",
    "\n",
    "# Multilevel Inheritance\n",
    "class Grandparent:\n",
    "    def grandparent_method(self):\n",
    "        print(\"This is Grandparent class\")\n",
    "\n",
    "class Parent(Grandparent):  # Renamed Parent to avoid conflict\n",
    "    def parent_method(self):\n",
    "        print(\"This is Parent class\")\n",
    "\n",
    "class ChildMultilevel(Parent):\n",
    "    def child_method(self):\n",
    "        print(\"This is Child class\")\n",
    "\n",
    "# Hierarchical Inheritance\n",
    "class Base:\n",
    "    def base_method(self):\n",
    "        print(\"This is Base class\")\n",
    "\n",
    "class Derived1(Base):\n",
    "    def derived1_method(self):\n",
    "        print(\"This is Derived1 class\")\n",
    "\n",
    "class Derived2(Base):\n",
    "    def derived2_method(self):\n",
    "        print(\"This is Derived2 class\")\n",
    "\n",
    "# Hybrid Inheritance\n",
    "class A:\n",
    "    def method_A(self):\n",
    "        print(\"This is class A\")\n",
    "\n",
    "class B(A):\n",
    "    def method_B(self):\n",
    "        print(\"This is class B\")\n",
    "\n",
    "class C(A):\n",
    "    def method_C(self):\n",
    "        print(\"This is class C\")\n",
    "\n",
    "class D(B, C):\n",
    "    def method_D(self):\n",
    "        print(\"This is class D\")\n",
    "\n",
    "def main():\n",
    "    print(\"Single Inheritance:\")\n",
    "    child = Child()\n",
    "    child.show()\n",
    "\n",
    "    print(\"\\nMultiple Inheritance:\")\n",
    "    balance_sheet = BalanceSheet()\n",
    "    balance_sheet.getProfit()\n",
    "    balance_sheet.getLoss()\n",
    "    balance_sheet.printBalance()\n",
    "\n",
    "    print(\"\\nMultilevel Inheritance:\")\n",
    "    multilevel_child = ChildMultilevel()\n",
    "    multilevel_child.grandparent_method()\n",
    "    multilevel_child.parent_method()\n",
    "    multilevel_child.child_method()\n",
    "\n",
    "    print(\"\\nHierarchical Inheritance:\")\n",
    "    derived1 = Derived1()\n",
    "    derived1.base_method()\n",
    "    derived1.derived1_method()\n",
    "\n",
    "    derived2 = Derived2()\n",
    "    derived2.base_method()\n",
    "    derived2.derived2_method()\n",
    "\n",
    "    print(\"\\nHybrid Inheritance:\")\n",
    "    hybrid_child = D()\n",
    "    hybrid_child.method_A()\n",
    "    hybrid_child.method_B()\n",
    "    hybrid_child.method_C()\n",
    "    hybrid_child.method_D()\n",
    "\n",
    "if __name__ == \"__main__\":\n",
    "    main()\n"
   ]
  },
  {
   "cell_type": "markdown",
   "metadata": {},
   "source": [
    "### 16) Create a Person class with a constructor that takes two arguments name and age. \n",
    "### Create a child class Employee that inherits from Person and adds a new attribute salary. \n",
    "### Override the __init__ method in Employee to call the parent class's __init__ method using the super() and then initialize the salary attribute."
   ]
  },
  {
   "cell_type": "code",
   "execution_count": 28,
   "metadata": {},
   "outputs": [
    {
     "name": "stdout",
     "output_type": "stream",
     "text": [
      "Name = Disha and Age = 20\n",
      "Salary =  50000\n"
     ]
    }
   ],
   "source": [
    "class Person:\n",
    "    def __init__(self,name,age):\n",
    "        self.Name = name\n",
    "        self.Age = age\n",
    "    def display(self):\n",
    "        print(f\"Name = {self.Name} and Age = {self.Age}\")\n",
    "class Employee(Person):\n",
    "    def __init__(self,name,age,salary):\n",
    "        super().__init__(name,age)\n",
    "        self.salary = salary\n",
    "    def display(self):\n",
    "        super().display()\n",
    "        print(\"Salary = \",self.salary)\n",
    "emp = Employee(\"Disha\", 20, 50000)\n",
    "emp.display()   "
   ]
  },
  {
   "cell_type": "markdown",
   "metadata": {},
   "source": [
    "### 17) Create a Shape class with a draw method that is not implemented. \n",
    "### Create three child classes Rectangle, Circle, and Triangle that implement the draw method with their respective drawing behaviors. \n",
    "### Create a list of Shape objects that includes one instance of each child class, and then iterate through the list and call the draw method on each object."
   ]
  },
  {
   "cell_type": "code",
   "execution_count": 29,
   "metadata": {},
   "outputs": [
    {
     "name": "stdout",
     "output_type": "stream",
     "text": [
      "Drawing a Rectangle\n",
      "Drawing a Circle\n",
      "Drawing a Triangle\n"
     ]
    }
   ],
   "source": [
    "from abc import ABC, abstractmethod\n",
    "\n",
    "class Shape(ABC):\n",
    "    @abstractmethod\n",
    "    def draw(self):\n",
    "        pass\n",
    "\n",
    "class Rectangle(Shape):\n",
    "    def draw(self):\n",
    "        print(\"Drawing a Rectangle\")\n",
    "\n",
    "class Circle(Shape):\n",
    "    def draw(self):\n",
    "        print(\"Drawing a Circle\")\n",
    "\n",
    "class Triangle(Shape):\n",
    "    def draw(self):\n",
    "        print(\"Drawing a Triangle\")\n",
    "\n",
    "shapes = [Rectangle(), Circle(), Triangle()]\n",
    "\n",
    "for i in shapes:\n",
    "    i.draw()\n"
   ]
  },
  {
   "cell_type": "code",
   "execution_count": null,
   "metadata": {},
   "outputs": [],
   "source": []
  }
 ],
 "metadata": {
  "kernelspec": {
   "display_name": "Python 3 (ipykernel)",
   "language": "python",
   "name": "python3"
  },
  "language_info": {
   "codemirror_mode": {
    "name": "ipython",
    "version": 3
   },
   "file_extension": ".py",
   "mimetype": "text/x-python",
   "name": "python",
   "nbconvert_exporter": "python",
   "pygments_lexer": "ipython3",
   "version": "3.12.7"
  }
 },
 "nbformat": 4,
 "nbformat_minor": 4
}
