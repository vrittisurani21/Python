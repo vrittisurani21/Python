{
 "cells": [
  {
   "cell_type": "markdown",
   "metadata": {},
   "source": [
    "<a href='https://www.darshan.ac.in/'> <img src='https://www.darshan.ac.in/Content/media/DU_Logo.svg' width=\"250\" height=\"300\"/></a>\n",
    "<pre>\n",
    "<center><b><h1>Python Programming - 2301CS404</b></center>\n",
    "<center><b><h1>Lab - 7</b></center>    \n",
    "<pre>"
   ]
  },
  {
   "cell_type": "markdown",
   "metadata": {},
   "source": [
    "# Set & Dictionary"
   ]
  },
  {
   "cell_type": "markdown",
   "metadata": {},
   "source": [
    "### 01) WAP to iterate over a set."
   ]
  },
  {
   "cell_type": "code",
   "execution_count": 1,
   "metadata": {},
   "outputs": [
    {
     "name": "stdout",
     "output_type": "stream",
     "text": [
      "1\n",
      "2\n",
      "3\n",
      "4\n",
      "5\n"
     ]
    }
   ],
   "source": [
    "my_set = {1, 2, 3, 4, 5}\n",
    "\n",
    "for item in my_set:\n",
    "    print(item)\n"
   ]
  },
  {
   "cell_type": "markdown",
   "metadata": {},
   "source": [
    "### 02) WAP to convert set into list, string and tuple."
   ]
  },
  {
   "cell_type": "code",
   "execution_count": 3,
   "metadata": {},
   "outputs": [
    {
     "name": "stdout",
     "output_type": "stream",
     "text": [
      "List: [1, 2, 3, 4, 5]\n",
      "String: 12345\n",
      "Tuple: (1, 2, 3, 4, 5)\n"
     ]
    }
   ],
   "source": [
    "my_set = {1, 2, 3, 4, 5}\n",
    "\n",
    "my_list = list(my_set)\n",
    "print(\"List:\", my_list)\n",
    "\n",
    "my_string = ''.join(str(item) for item in my_set)\n",
    "print(\"String:\", my_string)\n",
    "\n",
    "my_tuple = tuple(my_set)\n",
    "print(\"Tuple:\", my_tuple)\n"
   ]
  },
  {
   "cell_type": "markdown",
   "metadata": {},
   "source": [
    "### 03) WAP to find Maximum and Minimum from a set."
   ]
  },
  {
   "cell_type": "code",
   "execution_count": 5,
   "metadata": {},
   "outputs": [
    {
     "name": "stdout",
     "output_type": "stream",
     "text": [
      "Maximum value: 23\n",
      "Minimum value: 2\n"
     ]
    }
   ],
   "source": [
    "my_set = {15, 8, 23, 5, 19, 2}\n",
    "\n",
    "max_value = max(my_set)\n",
    "min_value = min(my_set)\n",
    "\n",
    "print(\"Maximum value:\", max_value)\n",
    "print(\"Minimum value:\", min_value)\n"
   ]
  },
  {
   "cell_type": "markdown",
   "metadata": {},
   "source": [
    "### 04) WAP to perform union of two sets."
   ]
  },
  {
   "cell_type": "code",
   "execution_count": 7,
   "metadata": {},
   "outputs": [
    {
     "name": "stdout",
     "output_type": "stream",
     "text": [
      "Union of set1 and set2: {1, 2, 3, 4, 5, 6}\n"
     ]
    }
   ],
   "source": [
    "set1 = {1, 2, 3, 4}\n",
    "set2 = {3, 4, 5, 6}\n",
    "\n",
    "union_set = set1.union(set2)\n",
    "\n",
    "print(\"Union of set1 and set2:\", union_set)\n"
   ]
  },
  {
   "cell_type": "markdown",
   "metadata": {},
   "source": [
    "### 05) WAP to check if two lists have at-least one element common."
   ]
  },
  {
   "cell_type": "code",
   "execution_count": 9,
   "metadata": {},
   "outputs": [
    {
     "name": "stdout",
     "output_type": "stream",
     "text": [
      "Lists have common elements: {4, 5}\n"
     ]
    }
   ],
   "source": [
    "list1 = [1, 2, 3, 4, 5]\n",
    "list2 = [4, 5, 6, 7, 8]\n",
    "\n",
    "set1 = set(list1)\n",
    "set2 = set(list2)\n",
    "\n",
    "common_elements = set1.intersection(set2)\n",
    "\n",
    "if common_elements:\n",
    "    print(\"Lists have common elements:\", common_elements)\n",
    "else:\n",
    "    print(\"No common elements found\")\n"
   ]
  },
  {
   "cell_type": "markdown",
   "metadata": {},
   "source": [
    "### 06) WAP to remove duplicates from list."
   ]
  },
  {
   "cell_type": "code",
   "execution_count": 11,
   "metadata": {},
   "outputs": [
    {
     "name": "stdout",
     "output_type": "stream",
     "text": [
      "List with duplicates removed: [1, 2, 3, 4, 5, 6]\n"
     ]
    }
   ],
   "source": [
    "my_list = [1, 2, 2, 3, 4, 4, 4, 5, 6, 6]\n",
    "\n",
    "unique_list = list(set(my_list))\n",
    "\n",
    "print(\"List with duplicates removed:\", unique_list)\n"
   ]
  },
  {
   "cell_type": "markdown",
   "metadata": {},
   "source": [
    "### 07) WAP to find unique words in the given string."
   ]
  },
  {
   "cell_type": "code",
   "execution_count": 15,
   "metadata": {},
   "outputs": [
    {
     "name": "stdout",
     "output_type": "stream",
     "text": [
      "Unique words: ['name', 'Drashti', 'is', 'Rathod', 'My']\n"
     ]
    }
   ],
   "source": [
    "my_string = \"My name is Drashti Rathod\"\n",
    "word_list = my_string.split()\n",
    "unique_words_set = set(word_list)\n",
    "unique_words_list = list(unique_words_set)\n",
    "\n",
    "print(\"Unique words:\", unique_words_list)\n"
   ]
  },
  {
   "cell_type": "markdown",
   "metadata": {},
   "source": [
    "### 08) WAP to remove common elements of set A & B from set A."
   ]
  },
  {
   "cell_type": "code",
   "execution_count": 17,
   "metadata": {},
   "outputs": [
    {
     "name": "stdout",
     "output_type": "stream",
     "text": [
      "Set A after removing common elements: {1, 2}\n"
     ]
    }
   ],
   "source": [
    "set_A = {1, 2, 3, 4, 5}\n",
    "set_B = {3, 4, 5, 6, 7}\n",
    "\n",
    "common_elements = set_A.intersection(set_B)\n",
    "set_A = set_A - common_elements\n",
    "\n",
    "print(\"Set A after removing common elements:\", set_A)\n"
   ]
  },
  {
   "cell_type": "markdown",
   "metadata": {},
   "source": [
    "### 09) WAP to check whether two given strings are anagram or not using set."
   ]
  },
  {
   "cell_type": "code",
   "execution_count": 21,
   "metadata": {},
   "outputs": [
    {
     "name": "stdout",
     "output_type": "stream",
     "text": [
      "\"listen\" and \"silent\" are anagrams.\n"
     ]
    }
   ],
   "source": [
    "string1 = \"listen\"\n",
    "string2 = \"silent\"\n",
    "\n",
    "set1 = set(string1.replace(\" \", \"\").lower())\n",
    "set2 = set(string2.replace(\" \", \"\").lower())\n",
    "\n",
    "if set1 == set2:\n",
    "    print(f'\"{string1}\" and \"{string2}\" are anagrams.')\n",
    "else:\n",
    "    print(f'\"{string1}\" and \"{string2}\" are not anagrams.')\n"
   ]
  },
  {
   "cell_type": "markdown",
   "metadata": {},
   "source": [
    "### 10) WAP to find common elements in three lists using set."
   ]
  },
  {
   "cell_type": "code",
   "execution_count": 23,
   "metadata": {},
   "outputs": [
    {
     "name": "stdout",
     "output_type": "stream",
     "text": [
      "Common elements in list1, list2, and list3: {3, 5}\n"
     ]
    }
   ],
   "source": [
    "list1 = [1, 2, 2, 3, 4, 5]\n",
    "list2 = [2, 3, 5, 6, 7]\n",
    "list3 = [1, 3, 4, 5, 8]\n",
    "\n",
    "set1 = set(list1)\n",
    "set2 = set(list2)\n",
    "set3 = set(list3)\n",
    "\n",
    "common_elements = set1.intersection(set2).intersection(set3)\n",
    "\n",
    "print(\"Common elements in list1, list2, and list3:\", common_elements)\n"
   ]
  },
  {
   "cell_type": "markdown",
   "metadata": {},
   "source": [
    "### 11) WAP to count number of vowels in given string using set."
   ]
  },
  {
   "cell_type": "code",
   "execution_count": 29,
   "metadata": {},
   "outputs": [
    {
     "name": "stdout",
     "output_type": "stream",
     "text": [
      "Number of vowels in the given string: 7\n"
     ]
    }
   ],
   "source": [
    "my_string = \"My name is Drashti Rathod\"\n",
    "vowels = {'a', 'e', 'i', 'o', 'u', 'A', 'E', 'I', 'O', 'U'}\n",
    "vowel_count = 0\n",
    "\n",
    "for char in my_string:\n",
    "    if char in vowels:\n",
    "        vowel_count += 1\n",
    "\n",
    "print(\"Number of vowels in the given string:\", vowel_count)\n"
   ]
  },
  {
   "cell_type": "markdown",
   "metadata": {},
   "source": [
    "### 12) WAP to check if a given string is binary string or not."
   ]
  },
  {
   "cell_type": "code",
   "execution_count": 27,
   "metadata": {},
   "outputs": [
    {
     "name": "stdout",
     "output_type": "stream",
     "text": [
      "\"1010101010\" is a binary string.\n"
     ]
    }
   ],
   "source": [
    "my_string = \"1010101010\"\n",
    "binary_set = {'0', '1'}\n",
    "string_set = set(my_string)\n",
    "is_binary = string_set.issubset(binary_set)\n",
    "\n",
    "if is_binary:\n",
    "    print(f'\"{my_string}\" is a binary string.')\n",
    "else:\n",
    "    print(f'\"{my_string}\" is not a binary string.')\n"
   ]
  },
  {
   "cell_type": "markdown",
   "metadata": {},
   "source": [
    "### 13) WAP to sort dictionary by key or value."
   ]
  },
  {
   "cell_type": "code",
   "execution_count": 31,
   "metadata": {},
   "outputs": [
    {
     "name": "stdout",
     "output_type": "stream",
     "text": [
      "Dictionary sorted by key: {'apple': 5, 'banana': 3, 'orange': 2, 'pear': 4}\n",
      "Dictionary sorted by value: {'orange': 2, 'banana': 3, 'pear': 4, 'apple': 5}\n"
     ]
    }
   ],
   "source": [
    "my_dict = {'banana': 3, 'apple': 5, 'orange': 2, 'pear': 4}\n",
    "\n",
    "sorted_by_key = dict(sorted(my_dict.items()))\n",
    "print(\"Dictionary sorted by key:\", sorted_by_key)\n",
    "\n",
    "sorted_by_value = dict(sorted(my_dict.items(), key=lambda item: item[1]))\n",
    "print(\"Dictionary sorted by value:\", sorted_by_value)\n"
   ]
  },
  {
   "cell_type": "markdown",
   "metadata": {},
   "source": [
    "### 14) WAP to find the sum of all items (values) in a dictionary given by user. (Assume: values are numeric)"
   ]
  },
  {
   "cell_type": "code",
   "execution_count": 35,
   "metadata": {},
   "outputs": [
    {
     "name": "stdout",
     "output_type": "stream",
     "text": [
      "Enter key-value pairs (type 'done' to finish):\n"
     ]
    },
    {
     "name": "stdin",
     "output_type": "stream",
     "text": [
      "Enter key:  23\n",
      "Enter value:  25\n",
      "Enter key:  45\n",
      "Enter value:  86\n",
      "Enter key:  done\n"
     ]
    },
    {
     "name": "stdout",
     "output_type": "stream",
     "text": [
      "Sum of all values in the dictionary: 111.0\n"
     ]
    }
   ],
   "source": [
    "user_dict = {}\n",
    "print(\"Enter key-value pairs (type 'done' to finish):\")\n",
    "\n",
    "while True:\n",
    "    key = input(\"Enter key: \")\n",
    "    if key.lower() == 'done':\n",
    "        break\n",
    "    value = float(input(\"Enter value: \"))  \n",
    "    user_dict[key] = value\n",
    "\n",
    "sum_values = sum(user_dict.values())\n",
    "\n",
    "print(\"Sum of all values in the dictionary:\", sum_values)\n"
   ]
  },
  {
   "cell_type": "markdown",
   "metadata": {},
   "source": [
    "### 15) WAP to handle missing keys in dictionaries.\n",
    "#### Example : Given, dict1 = {'a': 5, 'c': 8, 'e': 2} \n",
    "#### if you look for key = 'd', the message given should be 'Key Not Found', otherwise print the value of 'd' in dict1."
   ]
  },
  {
   "cell_type": "code",
   "execution_count": 41,
   "metadata": {},
   "outputs": [
    {
     "name": "stdout",
     "output_type": "stream",
     "text": [
      "Key Not Found\n"
     ]
    }
   ],
   "source": [
    "dict1 = {'a': 5, 'c': 8, 'e': 2}\n",
    "key_to_check = 'd'\n",
    "\n",
    "if key_to_check in dict1:\n",
    "    print(f\"The value of '{key_to_check}' in dict1 is:\", dict1[key_to_check])\n",
    "else:\n",
    "    print(\"Key Not Found\")\n"
   ]
  }
 ],
 "metadata": {
  "kernelspec": {
   "display_name": "Python 3 (ipykernel)",
   "language": "python",
   "name": "python3"
  },
  "language_info": {
   "codemirror_mode": {
    "name": "ipython",
    "version": 3
   },
   "file_extension": ".py",
   "mimetype": "text/x-python",
   "name": "python",
   "nbconvert_exporter": "python",
   "pygments_lexer": "ipython3",
   "version": "3.12.7"
  }
 },
 "nbformat": 4,
 "nbformat_minor": 4
}
